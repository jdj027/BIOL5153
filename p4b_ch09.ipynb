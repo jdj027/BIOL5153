{
 "cells": [
  {
   "cell_type": "markdown",
   "metadata": {},
   "source": [
    "# P4B Chapter 9\n",
    "## Jake Jones"
   ]
  },
  {
   "cell_type": "code",
   "execution_count": 1,
   "metadata": {
    "collapsed": true
   },
   "outputs": [],
   "source": [
    "# Setting a path\n",
    "# /path/to/my/file.txt for linux\n",
    "# c:/path/to/my/file.txt for windows"
   ]
  },
  {
   "cell_type": "code",
   "execution_count": 2,
   "metadata": {},
   "outputs": [
    {
     "ename": "FileNotFoundError",
     "evalue": "[Errno 2] No such file or directory: 'old.txt' -> 'new.txt'",
     "output_type": "error",
     "traceback": [
      "\u001b[0;31m---------------------------------------------------------------------------\u001b[0m",
      "\u001b[0;31mFileNotFoundError\u001b[0m                         Traceback (most recent call last)",
      "\u001b[0;32m<ipython-input-2-7b0899a1d3d9>\u001b[0m in \u001b[0;36m<module>\u001b[0;34m()\u001b[0m\n\u001b[1;32m      1\u001b[0m \u001b[0;31m# Renaming files\u001b[0m\u001b[0;34m\u001b[0m\u001b[0;34m\u001b[0m\u001b[0m\n\u001b[1;32m      2\u001b[0m \u001b[0;32mimport\u001b[0m \u001b[0mos\u001b[0m\u001b[0;34m\u001b[0m\u001b[0m\n\u001b[0;32m----> 3\u001b[0;31m \u001b[0mos\u001b[0m\u001b[0;34m.\u001b[0m\u001b[0mrename\u001b[0m\u001b[0;34m(\u001b[0m\u001b[0;34m\"old.txt\"\u001b[0m\u001b[0;34m,\u001b[0m \u001b[0;34m\"new.txt\"\u001b[0m\u001b[0;34m)\u001b[0m\u001b[0;34m\u001b[0m\u001b[0m\n\u001b[0m\u001b[1;32m      4\u001b[0m \u001b[0;34m\u001b[0m\u001b[0m\n\u001b[1;32m      5\u001b[0m \u001b[0;31m# Can also use this to move the renamed file\u001b[0m\u001b[0;34m\u001b[0m\u001b[0;34m\u001b[0m\u001b[0m\n",
      "\u001b[0;31mFileNotFoundError\u001b[0m: [Errno 2] No such file or directory: 'old.txt' -> 'new.txt'"
     ]
    }
   ],
   "source": [
    "# Renaming files\n",
    "import os\n",
    "os.rename(\"old.txt\", \"new.txt\")\n",
    "\n",
    "# Can also use this to move the renamed file\n",
    "os.rename(\"/home/martin/biology/old.txt\", \"/home/martin/python/old.txt\")\n",
    "\n",
    "# Also works on folders\n",
    "os.rename(\"/home/martin/old_folder\", \"/home/martin/new_folder\")"
   ]
  },
  {
   "cell_type": "code",
   "execution_count": 3,
   "metadata": {},
   "outputs": [
    {
     "ename": "FileNotFoundError",
     "evalue": "[Errno 2] No such file or directory: '/home/martin/python'",
     "output_type": "error",
     "traceback": [
      "\u001b[0;31m---------------------------------------------------------------------------\u001b[0m",
      "\u001b[0;31mFileNotFoundError\u001b[0m                         Traceback (most recent call last)",
      "\u001b[0;32m<ipython-input-3-a55d3deeff8b>\u001b[0m in \u001b[0;36m<module>\u001b[0;34m()\u001b[0m\n\u001b[1;32m      1\u001b[0m \u001b[0;31m# Use mkdir to make a new directory\u001b[0m\u001b[0;34m\u001b[0m\u001b[0;34m\u001b[0m\u001b[0m\n\u001b[0;32m----> 2\u001b[0;31m \u001b[0mos\u001b[0m\u001b[0;34m.\u001b[0m\u001b[0mmkdir\u001b[0m\u001b[0;34m(\u001b[0m\u001b[0;34m\"/home/martin/python\"\u001b[0m\u001b[0;34m)\u001b[0m\u001b[0;34m\u001b[0m\u001b[0m\n\u001b[0m\u001b[1;32m      3\u001b[0m \u001b[0;34m\u001b[0m\u001b[0m\n\u001b[1;32m      4\u001b[0m \u001b[0;31m# Use shutil to move file or folders\u001b[0m\u001b[0;34m\u001b[0m\u001b[0;34m\u001b[0m\u001b[0m\n\u001b[1;32m      5\u001b[0m \u001b[0mshutil\u001b[0m\u001b[0;34m.\u001b[0m\u001b[0mcopy\u001b[0m\u001b[0;34m(\u001b[0m\u001b[0;34m\"/home/martin/original.txt\"\u001b[0m\u001b[0;34m,\u001b[0m \u001b[0;34m\"/home/martin/copy.txt\"\u001b[0m\u001b[0;34m)\u001b[0m\u001b[0;34m\u001b[0m\u001b[0m\n",
      "\u001b[0;31mFileNotFoundError\u001b[0m: [Errno 2] No such file or directory: '/home/martin/python'"
     ]
    }
   ],
   "source": [
    "# Use mkdir to make a new directory\n",
    "os.mkdir(\"/home/martin/python\")\n",
    "\n",
    "# Use shutil to move file or folders\n",
    "shutil.copy(\"/home/martin/original.txt\", \"/home/martin/copy.txt\")"
   ]
  },
  {
   "cell_type": "code",
   "execution_count": 4,
   "metadata": {},
   "outputs": [
    {
     "ename": "FileNotFoundError",
     "evalue": "[Errno 2] No such file or directory: '/home/martin/unwanted_file.txt'",
     "output_type": "error",
     "traceback": [
      "\u001b[0;31m---------------------------------------------------------------------------\u001b[0m",
      "\u001b[0;31mFileNotFoundError\u001b[0m                         Traceback (most recent call last)",
      "\u001b[0;32m<ipython-input-4-f91f61d85b52>\u001b[0m in \u001b[0;36m<module>\u001b[0;34m()\u001b[0m\n\u001b[1;32m      2\u001b[0m \u001b[0;34m\u001b[0m\u001b[0m\n\u001b[1;32m      3\u001b[0m \u001b[0;31m# Deleting single files\u001b[0m\u001b[0;34m\u001b[0m\u001b[0;34m\u001b[0m\u001b[0m\n\u001b[0;32m----> 4\u001b[0;31m \u001b[0mos\u001b[0m\u001b[0;34m.\u001b[0m\u001b[0mremove\u001b[0m\u001b[0;34m(\u001b[0m\u001b[0;34m\"/home/martin/unwanted_file.txt\"\u001b[0m\u001b[0;34m)\u001b[0m\u001b[0;34m\u001b[0m\u001b[0m\n\u001b[0m\u001b[1;32m      5\u001b[0m \u001b[0;34m\u001b[0m\u001b[0m\n\u001b[1;32m      6\u001b[0m \u001b[0;31m# Remove empty folders\u001b[0m\u001b[0;34m\u001b[0m\u001b[0;34m\u001b[0m\u001b[0m\n",
      "\u001b[0;31mFileNotFoundError\u001b[0m: [Errno 2] No such file or directory: '/home/martin/unwanted_file.txt'"
     ]
    }
   ],
   "source": [
    "# Removing files and folders\n",
    "\n",
    "# Deleting single files\n",
    "os.remove(\"/home/martin/unwanted_file.txt\")\n",
    "\n",
    "# Remove empty folders\n",
    "os.rmdir(\"/home/martin/emtpy\")\n",
    "\n",
    "# Delete a folder and ALL files in it\n",
    "shutil.rmtree(\"home/martin/full\")"
   ]
  },
  {
   "cell_type": "code",
   "execution_count": 5,
   "metadata": {},
   "outputs": [
    {
     "ename": "FileNotFoundError",
     "evalue": "[Errno 2] No such file or directory: '/home/martin'",
     "output_type": "error",
     "traceback": [
      "\u001b[0;31m---------------------------------------------------------------------------\u001b[0m",
      "\u001b[0;31mFileNotFoundError\u001b[0m                         Traceback (most recent call last)",
      "\u001b[0;32m<ipython-input-5-1f217fc35ac4>\u001b[0m in \u001b[0;36m<module>\u001b[0;34m()\u001b[0m\n\u001b[1;32m      1\u001b[0m \u001b[0;31m# Listing folder contents\u001b[0m\u001b[0;34m\u001b[0m\u001b[0;34m\u001b[0m\u001b[0m\n\u001b[0;32m----> 2\u001b[0;31m \u001b[0;32mfor\u001b[0m \u001b[0mfile_name\u001b[0m \u001b[0;32min\u001b[0m \u001b[0mos\u001b[0m\u001b[0;34m.\u001b[0m\u001b[0mlistdir\u001b[0m\u001b[0;34m(\u001b[0m\u001b[0;34m\"/home/martin\"\u001b[0m\u001b[0;34m)\u001b[0m\u001b[0;34m:\u001b[0m\u001b[0;34m\u001b[0m\u001b[0m\n\u001b[0m\u001b[1;32m      3\u001b[0m     \u001b[0mprint\u001b[0m\u001b[0;34m(\u001b[0m\u001b[0;34m\"one file name is \"\u001b[0m \u001b[0;34m+\u001b[0m \u001b[0mfile_name\u001b[0m\u001b[0;34m)\u001b[0m\u001b[0;34m\u001b[0m\u001b[0m\n\u001b[1;32m      4\u001b[0m \u001b[0;34m\u001b[0m\u001b[0m\n\u001b[1;32m      5\u001b[0m \u001b[0;31m# Note: if you leave the path blank, will use the cwd\u001b[0m\u001b[0;34m\u001b[0m\u001b[0;34m\u001b[0m\u001b[0m\n",
      "\u001b[0;31mFileNotFoundError\u001b[0m: [Errno 2] No such file or directory: '/home/martin'"
     ]
    }
   ],
   "source": [
    "# Listing folder contents\n",
    "for file_name in os.listdir(\"/home/martin\"):\n",
    "    print(\"one file name is \" + file_name)\n",
    "    \n",
    "# Note: if you leave the path blank, will use the cwd"
   ]
  },
  {
   "cell_type": "code",
   "execution_count": 6,
   "metadata": {
    "collapsed": true
   },
   "outputs": [],
   "source": [
    "# Running external programs\n",
    "\n",
    "# 1. Give the path\n",
    "# /home/martin/software/myprogram\n",
    "\n",
    "# 2. Import subprocess\n",
    "# subprocess.call(\"/bin/date\")\n",
    "\n",
    "# 3. Can use commands to edit output\n",
    "# subprocess.call(\"/bin/date +%B\", shell=True)\n",
    "\n",
    "# *NOTE: Can also save these processes as variables\n",
    "# current_month = subprocess.check_output(\"/bin/date +%B\", shell=True)"
   ]
  },
  {
   "cell_type": "code",
   "execution_count": 7,
   "metadata": {},
   "outputs": [
    {
     "name": "stdout",
     "output_type": "stream",
     "text": [
      "Enter the accession nameyolo\n"
     ]
    }
   ],
   "source": [
    "# To request user input...\n",
    "accession = input(\"Enter the accession name\") # The string will display to prompt the user to enter an input"
   ]
  },
  {
   "cell_type": "code",
   "execution_count": 1,
   "metadata": {
    "collapsed": true
   },
   "outputs": [],
   "source": [
    "# Using command line arguments\n",
    "\n",
    "# myprogram one two three\n",
    "# import sys\n",
    "# print(sys.argv) \n",
    "# ['myprogram.py', 'one', 'two', 'three']"
   ]
  },
  {
   "cell_type": "markdown",
   "metadata": {},
   "source": [
    "## Exercise 1"
   ]
  },
  {
   "cell_type": "code",
   "execution_count": 1,
   "metadata": {},
   "outputs": [
    {
     "name": "stdout",
     "output_type": "stream",
     "text": [
      "reading sequences from xaj.dna\n",
      "sequence length is 121\n",
      "bin is 100 to 199\n",
      "sequence length is 442\n",
      "bin is 400 to 499\n",
      "sequence length is 520\n",
      "bin is 500 to 599\n",
      "sequence length is 866\n",
      "bin is 800 to 899\n",
      "sequence length is 969\n",
      "bin is 900 to 999\n",
      "sequence length is 672\n",
      "bin is 600 to 699\n",
      "sequence length is 138\n",
      "bin is 100 to 199\n",
      "sequence length is 922\n",
      "bin is 900 to 999\n",
      "sequence length is 652\n",
      "bin is 600 to 699\n",
      "sequence length is 749\n",
      "bin is 700 to 799\n",
      "reading sequences from xai.dna\n",
      "sequence length is 317\n",
      "bin is 300 to 399\n",
      "sequence length is 382\n",
      "bin is 300 to 399\n",
      "sequence length is 324\n",
      "bin is 300 to 399\n",
      "sequence length is 747\n",
      "bin is 700 to 799\n",
      "sequence length is 353\n",
      "bin is 300 to 399\n",
      "sequence length is 878\n",
      "bin is 800 to 899\n",
      "sequence length is 692\n",
      "bin is 600 to 699\n",
      "sequence length is 806\n",
      "bin is 800 to 899\n",
      "sequence length is 118\n",
      "bin is 100 to 199\n",
      "sequence length is 556\n",
      "bin is 500 to 599\n",
      "reading sequences from xah.dna\n",
      "sequence length is 575\n",
      "bin is 500 to 599\n",
      "sequence length is 987\n",
      "bin is 900 to 999\n",
      "sequence length is 141\n",
      "bin is 100 to 199\n",
      "sequence length is 590\n",
      "bin is 500 to 599\n",
      "sequence length is 833\n",
      "bin is 800 to 899\n",
      "sequence length is 200\n",
      "bin is 200 to 299\n",
      "sequence length is 539\n",
      "bin is 500 to 599\n",
      "sequence length is 625\n",
      "bin is 600 to 699\n",
      "sequence length is 363\n",
      "bin is 300 to 399\n",
      "sequence length is 779\n",
      "bin is 700 to 799\n",
      "reading sequences from xag.dna\n",
      "sequence length is 432\n",
      "bin is 400 to 499\n",
      "sequence length is 818\n",
      "bin is 800 to 899\n",
      "sequence length is 604\n",
      "bin is 600 to 699\n",
      "sequence length is 879\n",
      "bin is 800 to 899\n",
      "sequence length is 619\n",
      "bin is 600 to 699\n",
      "sequence length is 500\n",
      "bin is 500 to 599\n",
      "sequence length is 119\n",
      "bin is 100 to 199\n",
      "sequence length is 341\n",
      "bin is 300 to 399\n",
      "sequence length is 303\n",
      "bin is 300 to 399\n",
      "sequence length is 469\n",
      "bin is 400 to 499\n",
      "reading sequences from xaf.dna\n",
      "sequence length is 242\n",
      "bin is 200 to 299\n",
      "sequence length is 714\n",
      "bin is 700 to 799\n",
      "sequence length is 291\n",
      "bin is 200 to 299\n",
      "sequence length is 313\n",
      "bin is 300 to 399\n",
      "sequence length is 926\n",
      "bin is 900 to 999\n",
      "sequence length is 738\n",
      "bin is 700 to 799\n",
      "sequence length is 516\n",
      "bin is 500 to 599\n",
      "sequence length is 218\n",
      "bin is 200 to 299\n",
      "sequence length is 558\n",
      "bin is 500 to 599\n",
      "sequence length is 465\n",
      "bin is 400 to 499\n",
      "reading sequences from xae.dna\n",
      "sequence length is 600\n",
      "bin is 600 to 699\n",
      "sequence length is 707\n",
      "bin is 700 to 799\n",
      "sequence length is 853\n",
      "bin is 800 to 899\n",
      "sequence length is 971\n",
      "bin is 900 to 999\n",
      "sequence length is 279\n",
      "bin is 200 to 299\n",
      "sequence length is 533\n",
      "bin is 500 to 599\n",
      "sequence length is 452\n",
      "bin is 400 to 499\n",
      "sequence length is 332\n",
      "bin is 300 to 399\n",
      "sequence length is 990\n",
      "bin is 900 to 999\n",
      "sequence length is 899\n",
      "reading sequences from xad.dna\n",
      "sequence length is 949\n",
      "bin is 900 to 999\n",
      "sequence length is 453\n",
      "bin is 400 to 499\n",
      "sequence length is 988\n",
      "bin is 900 to 999\n",
      "sequence length is 420\n",
      "bin is 400 to 499\n",
      "sequence length is 767\n",
      "bin is 700 to 799\n",
      "sequence length is 221\n",
      "bin is 200 to 299\n",
      "sequence length is 316\n",
      "bin is 300 to 399\n",
      "sequence length is 573\n",
      "bin is 500 to 599\n",
      "sequence length is 231\n",
      "bin is 200 to 299\n",
      "sequence length is 409\n",
      "bin is 400 to 499\n",
      "reading sequences from xac.dna\n",
      "sequence length is 665\n",
      "bin is 600 to 699\n",
      "sequence length is 165\n",
      "bin is 100 to 199\n",
      "sequence length is 677\n",
      "bin is 600 to 699\n",
      "sequence length is 454\n",
      "bin is 400 to 499\n",
      "sequence length is 426\n",
      "bin is 400 to 499\n",
      "sequence length is 600\n",
      "bin is 600 to 699\n",
      "sequence length is 177\n",
      "bin is 100 to 199\n",
      "sequence length is 888\n",
      "bin is 800 to 899\n",
      "sequence length is 535\n",
      "bin is 500 to 599\n",
      "sequence length is 974\n",
      "bin is 900 to 999\n",
      "reading sequences from xab.dna\n",
      "sequence length is 833\n",
      "bin is 800 to 899\n",
      "sequence length is 390\n",
      "bin is 300 to 399\n",
      "sequence length is 355\n",
      "bin is 300 to 399\n",
      "sequence length is 968\n",
      "bin is 900 to 999\n",
      "sequence length is 999\n",
      "sequence length is 257\n",
      "bin is 200 to 299\n",
      "sequence length is 909\n",
      "bin is 900 to 999\n",
      "sequence length is 236\n",
      "bin is 200 to 299\n",
      "sequence length is 943\n",
      "bin is 900 to 999\n",
      "sequence length is 703\n",
      "bin is 700 to 799\n",
      "reading sequences from xaa.dna\n",
      "sequence length is 333\n",
      "bin is 300 to 399\n",
      "sequence length is 283\n",
      "bin is 200 to 299\n",
      "sequence length is 380\n",
      "bin is 300 to 399\n",
      "sequence length is 115\n",
      "bin is 100 to 199\n",
      "sequence length is 753\n",
      "bin is 700 to 799\n",
      "sequence length is 764\n",
      "bin is 700 to 799\n",
      "sequence length is 234\n",
      "bin is 200 to 299\n",
      "sequence length is 117\n",
      "bin is 100 to 199\n",
      "sequence length is 906\n",
      "bin is 900 to 999\n",
      "sequence length is 160\n",
      "bin is 100 to 199\n"
     ]
    }
   ],
   "source": [
    "import os\n",
    "\n",
    "os.chdir('/home/centos/ch09_exercise_files')\n",
    "\n",
    "# create a new folder for each bin\n",
    "for smol in range(100,1000,100):\n",
    "    bigg = smol + 99\n",
    "    new_folder_name = str(smol) + \"_\" + str(bigg)\n",
    "    os.mkdir(new_folder_name)\n",
    "    \n",
    "# intialze variables\n",
    "q = 1\n",
    "\n",
    "# read the .dna files\n",
    "for flnm in os.listdir(\".\"):\n",
    "    if flnm.endswith(\".dna\"):\n",
    "        print(\"reading sequences from \" + flnm)\n",
    "        dna_file = open(flnm)\n",
    "        \n",
    "# find dna sequence length\n",
    "        for line in dna_file:\n",
    "            dna = line.rstrip(\"\\n\") #have to remove blank space\n",
    "            ll = len(dna)\n",
    "            print(\"sequence length is \" + str(ll))\n",
    "            \n",
    "# use if statement to determine if sequence is longer than the threshold\n",
    "            for smol in range(100,1000,100):\n",
    "                bigg = smol + 99\n",
    "                if ll >= smol and ll < bigg:\n",
    "                    \n",
    "# write sequence to new location\n",
    "                    print(\"bin is \" + str(smol) + \" to \" + str(bigg))\n",
    "                    new_folder_name = str(smol) + \"_\" + str(bigg)\n",
    "                    output_path = new_folder_name + '/' + str(q) + '.dna'\n",
    "                    output = open(output_path, \"w\")\n",
    "                    output.write(dna)\n",
    "                    output.close()\n",
    "                \n",
    "# move on to the next one\n",
    "                    q = q+1"
   ]
  },
  {
   "cell_type": "code",
   "execution_count": null,
   "metadata": {
    "collapsed": true
   },
   "outputs": [],
   "source": []
  }
 ],
 "metadata": {
  "kernelspec": {
   "display_name": "Python 3",
   "language": "python",
   "name": "python3"
  },
  "language_info": {
   "codemirror_mode": {
    "name": "ipython",
    "version": 3
   },
   "file_extension": ".py",
   "mimetype": "text/x-python",
   "name": "python",
   "nbconvert_exporter": "python",
   "pygments_lexer": "ipython3",
   "version": "3.6.1"
  }
 },
 "nbformat": 4,
 "nbformat_minor": 2
}
