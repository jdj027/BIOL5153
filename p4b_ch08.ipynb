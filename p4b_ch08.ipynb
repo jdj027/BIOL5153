{
 "cells": [
  {
   "cell_type": "markdown",
   "metadata": {},
   "source": [
    "# P4B Chapter 8\n",
    "## Jake Jones"
   ]
  },
  {
   "cell_type": "code",
   "execution_count": 3,
   "metadata": {},
   "outputs": [
    {
     "name": "stdout",
     "output_type": "stream",
     "text": [
      "GC[ATGC]GC\n"
     ]
    }
   ],
   "source": [
    "# Dictionaries and storing data\n",
    "enzymes = { 'EcoRI':r'GAATTC', 'AvaII':r'GG(A|T)CC', 'BisI':'GC[ATGC]GC' }\n",
    "print(enzymes['BisI'])"
   ]
  },
  {
   "cell_type": "code",
   "execution_count": 8,
   "metadata": {},
   "outputs": [
    {
     "data": {
      "text/plain": [
       "'GAATTC'"
      ]
     },
     "execution_count": 8,
     "metadata": {},
     "output_type": "execute_result"
    }
   ],
   "source": [
    "# Creating dictionaries\n",
    "enzymes = {}\n",
    "enzymes['EcoRI'] = r'GAATTC'\n",
    "enzymes['AvaII'] = r'GG(A|T)CC'\n",
    "enzymes['BisI'] = r'GC[ATGC]GC' \n",
    "\n",
    "# Use .pop to remove an enzyme from the dictionary\n",
    "enzymes.pop('EcoRI')"
   ]
  },
  {
   "cell_type": "code",
   "execution_count": 16,
   "metadata": {},
   "outputs": [
    {
     "name": "stdout",
     "output_type": "stream",
     "text": [
      "{'AAT': 1, 'ATG': 1, 'ATC': 2, 'ACG': 1, 'TAC': 1, 'TGA': 2, 'TCG': 2, 'GAT': 2, 'GTA': 1, 'GCT': 1, 'CTG': 1, 'CGA': 1, 'CGT': 1, 'CGC': 1}\n",
      "\n",
      "\n",
      "There are 2 counts of TGA.\n",
      "There are 0 counts of TGA.\n",
      "There are 1 counts of TGA.\n",
      "There are 0 counts of TGA.\n"
     ]
    }
   ],
   "source": [
    "# Trinucleotide dictionary\n",
    "dna = \"AATGATCGATCGTACGCTGA\"\n",
    "counts = {}\n",
    "for base1 in ['A', 'T', 'G', 'C']:\n",
    "    for base2 in ['A', 'T', 'G', 'C']:\n",
    "        for base3 in ['A', 'T', 'G', 'C']:\n",
    "            trinucleotide = base1 + base2 + base3\n",
    "            count = dna.count(trinucleotide)\n",
    "            if count > 0: # removes 0 counts\n",
    "                counts[trinucleotide] = count\n",
    "            \n",
    "print(counts)\n",
    "\n",
    "print('\\n')\n",
    "\n",
    "# There is a lot of blank space, but looking up a specific sequence count is ezpz\n",
    "print('There are ' + str(counts.get('TGA', 0)) + ' counts of TGA.') # .get takes an optional second argument\n",
    "print('There are ' + str(counts.get('AAA', 0)) + ' counts of TGA.') # .get takes an optional second argument\n",
    "print('There are ' + str(counts.get('GTA', 0)) + ' counts of TGA.') # .get takes an optional second argument\n",
    "print('There are ' + str(counts.get('TTT', 0)) + ' counts of TGA.') # .get takes an optional second argument"
   ]
  },
  {
   "cell_type": "code",
   "execution_count": 20,
   "metadata": {},
   "outputs": [
    {
     "name": "stdout",
     "output_type": "stream",
     "text": [
      "dict_keys(['AAT', 'ATG', 'ATC', 'ACG', 'TAC', 'TGA', 'TCG', 'GAT', 'GTA', 'GCT', 'CTG', 'CGA', 'CGT', 'CGC'])\n",
      "\n",
      "\n",
      "ATC\n",
      "TGA\n",
      "TCG\n",
      "GAT\n",
      "\n",
      "\n",
      "ATC\n",
      "GAT\n",
      "TCG\n",
      "TGA\n"
     ]
    }
   ],
   "source": [
    "# Iterating over a dictionary using keys\n",
    "print(counts.keys())\n",
    "print('\\n')\n",
    "\n",
    "for trinucleotide in counts.keys():\n",
    "    if counts.get(trinucleotide) == 2:\n",
    "        print(trinucleotide)\n",
    "print('\\n')\n",
    "\n",
    "# Note the order in which the results appear. Dictionaries are inherently unordered!\n",
    "# If you want order, need to sort\n",
    "for trinucleotide in sorted(counts.keys()):\n",
    "    if counts.get(trinucleotide) == 2:\n",
    "        print(trinucleotide)"
   ]
  },
  {
   "cell_type": "code",
   "execution_count": 22,
   "metadata": {},
   "outputs": [
    {
     "name": "stdout",
     "output_type": "stream",
     "text": [
      "ATC\n",
      "TGA\n",
      "TCG\n",
      "GAT\n"
     ]
    }
   ],
   "source": [
    "# Iterating over items\n",
    "for trinucleotide, count in counts.items():\n",
    "    if count == 2:\n",
    "        print(trinucleotide)\n"
   ]
  },
  {
   "cell_type": "markdown",
   "metadata": {},
   "source": [
    "## Exercise 1"
   ]
  },
  {
   "cell_type": "code",
   "execution_count": 42,
   "metadata": {},
   "outputs": [
    {
     "name": "stdout",
     "output_type": "stream",
     "text": [
      "MFG\n",
      "IDRSLLIDQ\n",
      "TDRS_LTYR\n",
      "TIDRXVRSYS\n"
     ]
    }
   ],
   "source": [
    "# dictionary\n",
    "gencode = {\n",
    "'ATA':'I', 'ATC':'I', 'ATT':'I', 'ATG':'M',\n",
    "'ACA':'T', 'ACC':'T', 'ACG':'T', 'ACT':'T',\n",
    "'AAC':'N', 'AAT':'N', 'AAA':'K', 'AAG':'K',\n",
    "'AGC':'S', 'AGT':'S', 'AGA':'R', 'AGG':'R',\n",
    "'CTA':'L', 'CTC':'L', 'CTG':'L', 'CTT':'L',\n",
    "'CCA':'P', 'CCC':'P', 'CCG':'P', 'CCT':'P',\n",
    "'CAC':'H', 'CAT':'H', 'CAA':'Q', 'CAG':'Q',\n",
    "'CGA':'R', 'CGC':'R', 'CGG':'R', 'CGT':'R',\n",
    "'GTA':'V', 'GTC':'V', 'GTG':'V', 'GTT':'V',\n",
    "'GCA':'A', 'GCC':'A', 'GCG':'A', 'GCT':'A',\n",
    "'GAC':'D', 'GAT':'D', 'GAA':'E', 'GAG':'E',\n",
    "'GGA':'G', 'GGC':'G', 'GGG':'G', 'GGT':'G',\n",
    "'TCA':'S', 'TCC':'S', 'TCG':'S', 'TCT':'S',\n",
    "'TTC':'F', 'TTT':'F', 'TTA':'L', 'TTG':'L',\n",
    "'TAC':'Y', 'TAT':'Y', 'TAA':'_', 'TAG':'_',\n",
    "'TGC':'C', 'TGT':'C', 'TGA':'_', 'TGG':'W'}\n",
    "\n",
    "def translate_dna(dna):\n",
    "    last_codon_start = len(dna) - 2\n",
    "    protein = \"\"\n",
    "    for start in range(0, last_codon_start, 3):\n",
    "        codon = dna[start:(start + 3)]\n",
    "        aa = gencode.get(codon.upper(), 'X')\n",
    "        protein = protein + aa\n",
    "    return protein  \n",
    "    \n",
    "print(translate_dna(\"ATGTTCGGT\"))\n",
    "print(translate_dna(\"ATCGATCGATCGTTGCTTATCGATCAG\"))\n",
    "print(translate_dna(\"actgatcgtagctagctgacgtatcgtat\"))\n",
    "print(translate_dna(\"ACGATCGATCGTNACGTACGATCGTACTCG\"))"
   ]
  },
  {
   "cell_type": "code",
   "execution_count": null,
   "metadata": {
    "collapsed": true
   },
   "outputs": [],
   "source": []
  }
 ],
 "metadata": {
  "kernelspec": {
   "display_name": "Python 3",
   "language": "python",
   "name": "python3"
  },
  "language_info": {
   "codemirror_mode": {
    "name": "ipython",
    "version": 3
   },
   "file_extension": ".py",
   "mimetype": "text/x-python",
   "name": "python",
   "nbconvert_exporter": "python",
   "pygments_lexer": "ipython3",
   "version": "3.6.1"
  }
 },
 "nbformat": 4,
 "nbformat_minor": 2
}
