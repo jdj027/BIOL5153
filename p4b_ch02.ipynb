{
 "cells": [
  {
   "cell_type": "markdown",
   "metadata": {},
   "source": [
    "# P4B Chapter 2 Examples\n",
    "### Jake Jones"
   ]
  },
  {
   "cell_type": "code",
   "execution_count": 6,
   "metadata": {},
   "outputs": [
    {
     "name": "stdout",
     "output_type": "stream",
     "text": [
      "Hello my baby\n"
     ]
    }
   ],
   "source": [
    "# Print a message to the screen\n",
    "print(\"Hello my baby\")"
   ]
  },
  {
   "cell_type": "code",
   "execution_count": 8,
   "metadata": {},
   "outputs": [
    {
     "name": "stdout",
     "output_type": "stream",
     "text": [
      "Hello my honey\n",
      "Hello my ragtime gaaaaal\n"
     ]
    }
   ],
   "source": [
    "# Try printing with different quotations\n",
    "print(\"Hello my honey\")\n",
    "print('Hello my ragtime gaaaaal')"
   ]
  },
  {
   "cell_type": "code",
   "execution_count": 9,
   "metadata": {},
   "outputs": [
    {
     "name": "stdout",
     "output_type": "stream",
     "text": [
      "She sad, 'Hello world'\n",
      "He said, \"Hello world\"\n"
     ]
    }
   ],
   "source": [
    "# Quotes with quotes\n",
    "print(\"She sad, 'Hello world'\")\n",
    "print('He said, \"Hello world\"')"
   ]
  },
  {
   "cell_type": "code",
   "execution_count": 10,
   "metadata": {},
   "outputs": [
    {
     "name": "stdout",
     "output_type": "stream",
     "text": [
      "Comments are cool or w/e\n"
     ]
    }
   ],
   "source": [
    "# Insert meta joke about comments later*\n",
    "print('Comments are cool or w/e')"
   ]
  },
  {
   "cell_type": "code",
   "execution_count": 11,
   "metadata": {},
   "outputs": [
    {
     "name": "stdout",
     "output_type": "stream",
     "text": [
      "Hello\n",
      "moto\n"
     ]
    }
   ],
   "source": [
    "# Use \\n to add a new line in a string\n",
    "print(\"Hello\\nmoto\")"
   ]
  },
  {
   "cell_type": "code",
   "execution_count": 12,
   "metadata": {},
   "outputs": [
    {
     "name": "stdout",
     "output_type": "stream",
     "text": [
      "ATTGCTGAATCG\n"
     ]
    }
   ],
   "source": [
    "# Making up some random dna\n",
    "my_dna=\"ATTGCTGAATCG\"\n",
    "# Displaying that random bit of dna\n",
    "print(my_dna)"
   ]
  },
  {
   "cell_type": "code",
   "execution_count": 13,
   "metadata": {
    "collapsed": true
   },
   "outputs": [],
   "source": [
    "# Override the dna stored in my_dna\n",
    "my_dna=\"ATGCGCTAGC\""
   ]
  },
  {
   "cell_type": "code",
   "execution_count": 14,
   "metadata": {},
   "outputs": [
    {
     "name": "stdout",
     "output_type": "stream",
     "text": [
      "ATGCGTA\n"
     ]
    }
   ],
   "source": [
    "# My guess at what banana dna looks like\n",
    "banana = \"ATGCGTA\"\n",
    "print(banana)"
   ]
  },
  {
   "cell_type": "code",
   "execution_count": 15,
   "metadata": {},
   "outputs": [
    {
     "name": "stdout",
     "output_type": "stream",
     "text": [
      "AGTCCGATGCTAGCTA\n"
     ]
    }
   ],
   "source": [
    "# Now we get to glue some string togther like a first grade art fair project\n",
    "my_dna = \"AGTCCGAT\" + \"GCTAGCTA\"\n",
    "print(my_dna)"
   ]
  },
  {
   "cell_type": "code",
   "execution_count": 20,
   "metadata": {},
   "outputs": [
    {
     "name": "stdout",
     "output_type": "stream",
     "text": [
      "AAAATCGCTA\n",
      "AAAGCTACATATTT\n"
     ]
    }
   ],
   "source": [
    "# More gluing with variables\n",
    "upstream = \"AAA\"\n",
    "my_dna = upstream + \"ATCGCTA\"\n",
    "print(my_dna)\n",
    "\n",
    "downstream = 'TTT'\n",
    "my_dna = upstream + \"GCTACATA\" + downstream\n",
    "print(my_dna)"
   ]
  },
  {
   "cell_type": "code",
   "execution_count": 21,
   "metadata": {},
   "outputs": [
    {
     "data": {
      "text/plain": [
       "4"
      ]
     },
     "execution_count": 21,
     "metadata": {},
     "output_type": "execute_result"
    }
   ],
   "source": [
    "# This line makes no output like the drain on society it is\n",
    "len(\"ATGC\")"
   ]
  },
  {
   "cell_type": "code",
   "execution_count": null,
   "metadata": {
    "collapsed": true
   },
   "outputs": [],
   "source": [
    "# Nevermind, I was wrong"
   ]
  },
  {
   "cell_type": "code",
   "execution_count": 22,
   "metadata": {},
   "outputs": [
    {
     "name": "stdout",
     "output_type": "stream",
     "text": [
      "4\n"
     ]
    }
   ],
   "source": [
    "# Store the length as a variable\n",
    "dna_length = len(\"ATGC\")\n",
    "print(dna_length)"
   ]
  },
  {
   "cell_type": "code",
   "execution_count": 24,
   "metadata": {},
   "outputs": [
    {
     "name": "stdout",
     "output_type": "stream",
     "text": [
      "The DNA has a length of 4\n"
     ]
    }
   ],
   "source": [
    "# Numeric variables must be converted to strings before use with strings\n",
    "# Seems discriminatory, but ok\n",
    "my_dna = \"ATGC\"\n",
    "dna_length = len(my_dna)\n",
    "print(\"The DNA has a length of \" + str(dna_length))"
   ]
  },
  {
   "cell_type": "code",
   "execution_count": 25,
   "metadata": {},
   "outputs": [
    {
     "name": "stdout",
     "output_type": "stream",
     "text": [
      "atgc\n"
     ]
    }
   ],
   "source": [
    "# Quick ways to change case of strings\n",
    "print(my_dna.lower())"
   ]
  },
  {
   "cell_type": "code",
   "execution_count": 27,
   "metadata": {},
   "outputs": [
    {
     "name": "stdout",
     "output_type": "stream",
     "text": [
      "Before: ATGC\n",
      "After: atgc\n"
     ]
    }
   ],
   "source": [
    "# Exploring how lower works \n",
    "print(\"Before: \" + my_dna)\n",
    "lowercase_dna = my_dna.lower()\n",
    "print(\"After: \" + lowercase_dna)"
   ]
  },
  {
   "cell_type": "code",
   "execution_count": 28,
   "metadata": {},
   "outputs": [
    {
     "name": "stdout",
     "output_type": "stream",
     "text": [
      "ylspadktny\n"
     ]
    }
   ],
   "source": [
    "# Replacements\n",
    "protein = 'vlspadktnv'\n",
    "# Replace valine with tyrosine\n",
    "print(protein.replace(\"v\",\"y\"))\n"
   ]
  },
  {
   "cell_type": "code",
   "execution_count": 29,
   "metadata": {},
   "outputs": [
    {
     "name": "stdout",
     "output_type": "stream",
     "text": [
      "ymtpadktnv\n"
     ]
    }
   ],
   "source": [
    "# Replace more than one character\n",
    "print(protein.replace(\"vls\",\"ymt\"))"
   ]
  },
  {
   "cell_type": "code",
   "execution_count": 32,
   "metadata": {},
   "outputs": [
    {
     "name": "stdout",
     "output_type": "stream",
     "text": [
      "pa\n",
      "vlspadk\n",
      "vlspadktnv\n"
     ]
    }
   ],
   "source": [
    "# Extract bits of a string\n",
    "print(protein[3:5])\n",
    "\n",
    "# Index starts at 0 and not 1\n",
    "print(protein[0:7])\n",
    "\n",
    "# What happens if we tell it to extend beyond the string?\n",
    "print(protein[0:69])"
   ]
  },
  {
   "cell_type": "code",
   "execution_count": 33,
   "metadata": {},
   "outputs": [
    {
     "name": "stdout",
     "output_type": "stream",
     "text": [
      "valines: 2\n",
      "lsp: 1\n",
      "tryptophans: 0\n"
     ]
    }
   ],
   "source": [
    "# Counting proteins in a string\n",
    "protein = \"vlspadktnv\"\n",
    "# count amino acid residues\n",
    "valine_count = protein.count('v')\n",
    "lsp_count = protein.count('lsp')\n",
    "tryptophan_count = protein.count('w')\n",
    "# now print the counts\n",
    "print(\"valines: \" + str(valine_count))\n",
    "print(\"lsp: \" + str(lsp_count))\n",
    "print(\"tryptophans: \" + str(tryptophan_count))"
   ]
  },
  {
   "cell_type": "code",
   "execution_count": 35,
   "metadata": {},
   "outputs": [
    {
     "name": "stdout",
     "output_type": "stream",
     "text": [
      "3\n",
      "6\n",
      "-1\n"
     ]
    }
   ],
   "source": [
    "# Instead if counting, what if we want to locate the poition of a residue?\n",
    "print(str(protein.find('p')))\n",
    "print(str(protein.find('kt')))\n",
    "print(str(protein.find('w')))\n",
    "\n",
    "# The -1 means it did not locate that string"
   ]
  },
  {
   "cell_type": "markdown",
   "metadata": {},
   "source": [
    "# P4B Chapter 2 Exercises"
   ]
  },
  {
   "cell_type": "markdown",
   "metadata": {},
   "source": [
    "## Exercise 1"
   ]
  },
  {
   "cell_type": "code",
   "execution_count": 52,
   "metadata": {},
   "outputs": [
    {
     "name": "stdout",
     "output_type": "stream",
     "text": [
      "Length: 54\n",
      "A Count: 16\n",
      "T Count: 21\n",
      "AT Content: 0.6851851851851852\n"
     ]
    }
   ],
   "source": [
    "# Input DNA sequence\n",
    "dna_seq = \"ACTGATCGATTACGTATAGTATTTGCTATCATACATATATATCGATGCGTTCAT\"\n",
    "act = dna_seq.count('A')\n",
    "tct = dna_seq.count('T')\n",
    "length = len(dna_seq)\n",
    "\n",
    "print(\"Length: \" + str(length))\n",
    "print('A Count: ' + str(act))\n",
    "print(\"T Count: \" + str(tct))\n",
    "\n",
    "atct = (act + tct)/length\n",
    "\n",
    "print('AT Content: ' + str(atct))"
   ]
  },
  {
   "cell_type": "markdown",
   "metadata": {},
   "source": [
    "## Exercise 2"
   ]
  },
  {
   "cell_type": "code",
   "execution_count": 54,
   "metadata": {},
   "outputs": [
    {
     "name": "stdout",
     "output_type": "stream",
     "text": [
      "TGACTAGCTAATGCATATCATAAACGATAGTATGTATATATAGCTACGCAAGTA\n"
     ]
    }
   ],
   "source": [
    "# Make a complementary strand of DNA\n",
    "dna_half = \"ACTGATCGATTACGTATAGTATTTGCTATCATACATATATATCGATGCGTTCAT\"\n",
    "\n",
    "rpc1 = dna_half.replace('A', 'W')\n",
    "rpc2 = rpc1.replace('T', 'X')\n",
    "rpc3 = rpc2.replace('C', 'Y')\n",
    "rpc4 = rpc3.replace('G', 'Z')\n",
    "rpc5 = rpc4.replace('W', 'T')\n",
    "rpc6 = rpc5.replace('X', 'A')\n",
    "rpc7 = rpc6.replace('Y', 'G')\n",
    "rpc8 = rpc7.replace('Z', 'C')\n",
    "print(rpc8)"
   ]
  },
  {
   "cell_type": "markdown",
   "metadata": {},
   "source": [
    "## Exercise 3"
   ]
  },
  {
   "cell_type": "code",
   "execution_count": 55,
   "metadata": {
    "collapsed": true
   },
   "outputs": [],
   "source": [
    "# Splice out introns"
   ]
  },
  {
   "cell_type": "code",
   "execution_count": 64,
   "metadata": {},
   "outputs": [
    {
     "name": "stdout",
     "output_type": "stream",
     "text": [
      "Size of first half is 22\n",
      "Size of second half is 33\n",
      "Total number of bps: 55\n"
     ]
    }
   ],
   "source": [
    "dna_3 = 'ACTGATCGATTACGTATAGTAGAATTCTATCATACATATATATCGATGCGTTCAT'\n",
    "ll=len(dna_3)\n",
    "\n",
    "target_seq = 'GAATTC'\n",
    "\n",
    "target_loc = dna_3.find(target_seq)\n",
    "\n",
    "size_1 = len(dna_3[0:(target_loc+1)])\n",
    "size_2 = len(dna_3[(target_loc+1):600])\n",
    "\n",
    "print(\"Size of first half is \" + str(size_1))\n",
    "print(\"Size of second half is \" + str(size_2))\n",
    "print(\"Total number of bps: \" + str(ll))"
   ]
  },
  {
   "cell_type": "markdown",
   "metadata": {},
   "source": [
    "## Exercise 4"
   ]
  },
  {
   "cell_type": "code",
   "execution_count": 73,
   "metadata": {},
   "outputs": [
    {
     "name": "stdout",
     "output_type": "stream",
     "text": [
      "33\n",
      "Exon 1: ATCGATCGATCGATCGACTGACTAGTCATAGCTATGCATGTAGCTACTCGATCGATCGATCG\n",
      "Exon 2: ATCATCGATCGATATCGATGCATCGACTACTAT\n"
     ]
    }
   ],
   "source": [
    "# Part 1\n",
    "gene_dna = 'ATCGATCGATCGATCGACTGACTAGTCATAGCTATGCATGTAGCTACTCGATCGATCGATCGATCGATCGATCGATCGATCGATCATGCTATCATCGATCGATATCGATGCATCGACTACTAT'\n",
    "exon1 = gene_dna[0:62]\n",
    "exon2 = gene_dna[90:10000]\n",
    "\n",
    "print(\"Exon 1: \" + exon1)\n",
    "print(\"Exon 2: \" + exon2)"
   ]
  },
  {
   "cell_type": "code",
   "execution_count": 76,
   "metadata": {},
   "outputs": [
    {
     "name": "stdout",
     "output_type": "stream",
     "text": [
      "Number of coding bps: 95\n",
      "Percent of genome that is coding: 77.23577235772358%\n"
     ]
    }
   ],
   "source": [
    "# Part 2\n",
    "number_coding = len(exon1) + len(exon2)\n",
    "print(\"Number of coding bps: \" + str(number_coding))\n",
    "\n",
    "genome_size = len(gene_dna)\n",
    "percent_coding = 100*(number_coding / genome_size)\n",
    "print('Percent of genome that is coding: ' + str(percent_coding) + '%')"
   ]
  },
  {
   "cell_type": "code",
   "execution_count": 79,
   "metadata": {},
   "outputs": [
    {
     "name": "stdout",
     "output_type": "stream",
     "text": [
      "ATCGATCGATCGATCGACTGACTAGTCATAGCTATGCATGTAGCTACTCGATCGATCGATCGatcgatcgatcgatcgatcgatcatgctATCATCGATCGATATCGATGCATCGACTACTAT\n"
     ]
    }
   ],
   "source": [
    "# Part 3\n",
    "noncode = gene_dna[62:90].lower()\n",
    "print(exon1 + noncode + exon2)"
   ]
  },
  {
   "cell_type": "markdown",
   "metadata": {},
   "source": [
    "#### END"
   ]
  },
  {
   "cell_type": "code",
   "execution_count": null,
   "metadata": {
    "collapsed": true
   },
   "outputs": [],
   "source": []
  }
 ],
 "metadata": {
  "kernelspec": {
   "display_name": "Python 3",
   "language": "python",
   "name": "python3"
  },
  "language_info": {
   "codemirror_mode": {
    "name": "ipython",
    "version": 3
   },
   "file_extension": ".py",
   "mimetype": "text/x-python",
   "name": "python",
   "nbconvert_exporter": "python",
   "pygments_lexer": "ipython3",
   "version": "3.6.1"
  }
 },
 "nbformat": 4,
 "nbformat_minor": 2
}
