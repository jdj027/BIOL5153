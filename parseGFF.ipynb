{
 "cells": [
  {
   "cell_type": "code",
   "execution_count": 34,
   "metadata": {
    "collapsed": true
   },
   "outputs": [],
   "source": [
    "#! /usr/bin/env python3\n",
    "\n",
    "# inputs\n",
    "#gff_file   = 'watermelon.gff'\n",
    "#fasta_file = 'watermelon.fsa'\n",
    "\n",
    "import argparse\n",
    "# create an ArgumentParser object ('parser') that will hold all the information necessary to parse the command line\n",
    "parser = argparse.ArgumentParser(description = \"Parses a .fasta file using the features saved in a .gff file\")\n",
    "\n",
    "# add positional arguments\n",
    "parser.add_argument(\"fasta_file_load\", help=\"Input the name of the desired .fasta file as a sting.\")\n",
    "parser.add_argument(\"gff_file_load\", help='Input the name of the desired .gff file as a sting.')\n",
    "\n",
    "# parse the command line\n",
    "args = parser.parse_args()\n",
    "\n",
    "print('Successfully loaded ' + str(args.gff_file_load) + '.')\n",
    "print('Successfully loaded ' + str(args.fasta_file_load) + '.')\n",
    "\n",
    "# open the FASTA file\n",
    "fasta = open(fasta_file, 'r')\n",
    "next(fasta)\n",
    "genome = fasta.read().rstrip(\"\\n\")\n",
    "\n",
    "# open the GFF file\n",
    "gff = open(gff_file, 'r')"
   ]
  },
  {
   "cell_type": "code",
   "execution_count": 36,
   "metadata": {
    "collapsed": true
   },
   "outputs": [],
   "source": [
    "# Read GFF file\n",
    "for line in gff:\n",
    "    # Remove newlines\n",
    "    line = line.rstrip('\\n')\n",
    "    # Extract gff fields\n",
    "    # [sequence, source, feature, begin, end, length, strand, phase, attributes]\n",
    "    fields = line.split('\\t')\n",
    "    start = int(fields[3])-1\n",
    "    stop = int(fields[4])-1\n",
    "    \n",
    "    # extract the DNA sequence from the genome for this feature\n",
    "    substring = genome[start:stop]\n",
    "    # print the DNA sequence for this feature\n",
    "    print(substring)\n",
    "\n",
    "    # calculate the GC content for this feature, and print it to the screen\n",
    "    g_content = substring.count('G')\n",
    "    c_content = substring.count('C')\n",
    "    sub_len = len(substring)\n",
    "    gc_content = ((g_content + c_content)*100) / sub_len\n",
    "    print('GC content of this feature: ' + str(gc_content) + '%')"
   ]
  },
  {
   "cell_type": "code",
   "execution_count": 37,
   "metadata": {
    "collapsed": true
   },
   "outputs": [],
   "source": [
    "fasta.close()\n",
    "gff.close()"
   ]
  },
  {
   "cell_type": "code",
   "execution_count": null,
   "metadata": {
    "collapsed": true
   },
   "outputs": [],
   "source": []
  },
  {
   "cell_type": "code",
   "execution_count": null,
   "metadata": {
    "collapsed": true
   },
   "outputs": [],
   "source": []
  }
 ],
 "metadata": {
  "kernelspec": {
   "display_name": "Python 3",
   "language": "python",
   "name": "python3"
  },
  "language_info": {
   "codemirror_mode": {
    "name": "ipython",
    "version": 3
   },
   "file_extension": ".py",
   "mimetype": "text/x-python",
   "name": "python",
   "nbconvert_exporter": "python",
   "pygments_lexer": "ipython3",
   "version": "3.6.1"
  }
 },
 "nbformat": 4,
 "nbformat_minor": 2
}
