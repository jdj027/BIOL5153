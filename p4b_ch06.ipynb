{
 "cells": [
  {
   "cell_type": "markdown",
   "metadata": {},
   "source": [
    "# P4B Chapter 6 Exercises\n",
    "## Jake Jones"
   ]
  },
  {
   "cell_type": "code",
   "execution_count": 3,
   "metadata": {},
   "outputs": [
    {
     "name": "stdout",
     "output_type": "stream",
     "text": [
      "False\n",
      "False\n",
      "True\n",
      "False\n",
      "True\n",
      "True\n",
      "False\n",
      "True\n",
      "False\n",
      "True\n"
     ]
    }
   ],
   "source": [
    "# Types of Conditional Statements\n",
    "print(3 == 5)\n",
    "print(3 > 5)\n",
    "print(3 <= 5)\n",
    "print(len(\"ATGC\") > 5)\n",
    "print(\"GAATTC\".count(\"T\") > 1)\n",
    "print(\"ATGCTT\".startswith(\"ATG\"))\n",
    "print(\"ATGCTT\".endswith(\"TTT\"))\n",
    "print(\"ATGCTT\".isupper())\n",
    "print(\"ATGCTT\".islower())\n",
    "print(\"V\" in [\"V\", \"W\", \"L\"])"
   ]
  },
  {
   "cell_type": "code",
   "execution_count": 4,
   "metadata": {},
   "outputs": [
    {
     "name": "stdout",
     "output_type": "stream",
     "text": [
      "Gene is highly expressed.\n"
     ]
    }
   ],
   "source": [
    "# if statements\n",
    "expression_level = 125\n",
    "if expression_level > 100:\n",
    "    print('Gene is highly expressed.')"
   ]
  },
  {
   "cell_type": "code",
   "execution_count": 5,
   "metadata": {},
   "outputs": [
    {
     "name": "stdout",
     "output_type": "stream",
     "text": [
      "ab56\n",
      "ay93\n",
      "ap97\n"
     ]
    }
   ],
   "source": [
    "accs = ['ab56', 'bh84', 'hv76', 'ay93', 'ap97', 'bd72']\n",
    "for accession in accs:\n",
    "    if accession.startswith('a'):\n",
    "       print(accession)"
   ]
  },
  {
   "cell_type": "code",
   "execution_count": 8,
   "metadata": {},
   "outputs": [
    {
     "name": "stdout",
     "output_type": "stream",
     "text": [
      "Gene is lowly expressed.\n"
     ]
    }
   ],
   "source": [
    "# else statements\n",
    "# expression_level = 125\n",
    "expression_level = 90\n",
    "if expression_level > 100:\n",
    "   print(\"Gene is highly expressed.\")\n",
    "else:\n",
    "    print(\"Gene is lowly expressed.\")"
   ]
  },
  {
   "cell_type": "code",
   "execution_count": 9,
   "metadata": {
    "collapsed": true
   },
   "outputs": [],
   "source": [
    "file1 = open(\"one.txt\", \"w\")\n",
    "file2 = open(\"two.txt\", \"w\")\n",
    "accs = ['ab56', 'bh84', 'hv76', 'ay93', 'ap97', 'bd72']\n",
    "for accession in accs:\n",
    "    if accession.startswith('a'):\n",
    "       file1.write(accession + \"\\n\")\n",
    "    else:\n",
    "       file2.write(accession + \"\\n\")"
   ]
  },
  {
   "cell_type": "code",
   "execution_count": 12,
   "metadata": {
    "collapsed": true
   },
   "outputs": [],
   "source": [
    "# elif statements\n",
    "\n",
    "# dirty version\n",
    "file1 = open(\"one.txt\", \"w\")\n",
    "file2 = open(\"two.txt\", \"w\")\n",
    "file3 = open(\"three.txt\", \"w\")\n",
    "accs = ['ab56', 'bh84', 'hv76', 'ay93', 'ap97', 'bd72']\n",
    "for accession in accs:\n",
    "    if accession.startswith('a'):\n",
    "       file1.write(accession + \"\\n\")\n",
    "    else:\n",
    "       if accession.startswith('b'):\n",
    "           file2.write(accession + \"\\n\")\n",
    "       else:\n",
    "          file3.write(accession + \"\\n\")"
   ]
  },
  {
   "cell_type": "code",
   "execution_count": 13,
   "metadata": {
    "collapsed": true
   },
   "outputs": [],
   "source": [
    "# better version\n",
    "file1 = open(\"one.txt\", \"w\")\n",
    "file2 = open(\"two.txt\", \"w\")\n",
    "file3 = open(\"three.txt\", \"w\")\n",
    "accs = ['ab56', 'bh84', 'hv76', 'ay93', 'ap97', 'bd72']\n",
    "for accession in accs:\n",
    "    if accession.startswith('a'):\n",
    "       file1.write(accession + \"\\n\")\n",
    "    elif accession.startswith('b'):\n",
    "       file2.write(accession + \"\\n\")\n",
    "    else:\n",
    "       file3.write(accession + \"\\n\")\n",
    "    \n",
    "# Can use an infinite number of elif statements before else"
   ]
  },
  {
   "cell_type": "code",
   "execution_count": 15,
   "metadata": {},
   "outputs": [
    {
     "name": "stdout",
     "output_type": "stream",
     "text": [
      "0\n",
      "1\n",
      "2\n",
      "3\n",
      "4\n",
      "5\n",
      "6\n",
      "7\n",
      "8\n",
      "9\n"
     ]
    }
   ],
   "source": [
    "# While loops\n",
    "count = 0\n",
    "while count<10:\n",
    "    print(count)\n",
    "    count = count + 1"
   ]
  },
  {
   "cell_type": "code",
   "execution_count": 16,
   "metadata": {},
   "outputs": [
    {
     "name": "stdout",
     "output_type": "stream",
     "text": [
      "ay93\n"
     ]
    }
   ],
   "source": [
    "# building complex conditions\n",
    "\n",
    "# want a code to find strings that start with a and end with 3\n",
    "accs = ['ab56', 'bh84', 'hv76', 'ay93', 'ap97', 'bd72']\n",
    "for accession in accs:\n",
    "    if accession.startswith('a'):\n",
    "       if accession.endswith('3'):\n",
    "          print(accession)"
   ]
  },
  {
   "cell_type": "code",
   "execution_count": 17,
   "metadata": {},
   "outputs": [
    {
     "name": "stdout",
     "output_type": "stream",
     "text": [
      "ay93\n"
     ]
    }
   ],
   "source": [
    "# better version using \"and\"\n",
    "accs = ['ab56', 'bh84', 'hv76', 'ay93', 'ap97', 'bd72']\n",
    "for accession in accs:\n",
    "    if accession.startswith('a') and accession.endswith('3'):\n",
    "       print(accession)"
   ]
  },
  {
   "cell_type": "code",
   "execution_count": 18,
   "metadata": {},
   "outputs": [
    {
     "name": "stdout",
     "output_type": "stream",
     "text": [
      "ab56\n",
      "bh84\n",
      "ay93\n",
      "ap97\n",
      "bd72\n"
     ]
    }
   ],
   "source": [
    "# use \"or\" to get a and b\n",
    "accs = ['ab56', 'bh84', 'hv76', 'ay93', 'ap97', 'bd72']\n",
    "for accession in accs:\n",
    "    if accession.startswith('a') or accession.startswith('b'):\n",
    "       print(accession)"
   ]
  },
  {
   "cell_type": "code",
   "execution_count": 20,
   "metadata": {},
   "outputs": [
    {
     "name": "stdout",
     "output_type": "stream",
     "text": [
      "bh84\n"
     ]
    }
   ],
   "source": [
    "# wacky, complex connections\n",
    "accs = ['ab56', 'bh84', 'hv76', 'ay93', 'ap97', 'bd72']\n",
    "for acc in accs:\n",
    "    if (acc.startswith('a') or acc.startswith('b')) and acc.endswith('4'):\n",
    "       print(acc)"
   ]
  },
  {
   "cell_type": "code",
   "execution_count": 21,
   "metadata": {},
   "outputs": [
    {
     "name": "stdout",
     "output_type": "stream",
     "text": [
      "ay93\n",
      "ap97\n"
     ]
    }
   ],
   "source": [
    "# and not statements\n",
    "accs = ['ab56', 'bh84', 'hv76', 'ay93', 'ap97', 'bd72']\n",
    "for acc in accs:\n",
    "    if acc.startswith('a') and not acc.endswith('6'):\n",
    "       print(acc)"
   ]
  },
  {
   "cell_type": "code",
   "execution_count": 27,
   "metadata": {},
   "outputs": [
    {
     "name": "stdout",
     "output_type": "stream",
     "text": [
      "True\n",
      "False\n"
     ]
    }
   ],
   "source": [
    "# True/False functions\n",
    "def is_at_rich(dna):\n",
    "    length = len(dna)\n",
    "    a_count = dna.upper().count('A')\n",
    "    t_count = dna.upper().count('T')\n",
    "    at_content = (a_count + t_count)/length\n",
    "    if at_content > 0.65:\n",
    "        return True\n",
    "    else:\n",
    "        return False\n",
    "\n",
    "print(is_at_rich(\"ATTATCTACTA\"))\n",
    "print(is_at_rich(\"CGGCAGCGCT\"))"
   ]
  },
  {
   "cell_type": "code",
   "execution_count": 28,
   "metadata": {},
   "outputs": [
    {
     "name": "stdout",
     "output_type": "stream",
     "text": [
      "True\n",
      "False\n"
     ]
    }
   ],
   "source": [
    "# can be condensed a bit\n",
    "def is_at_rich(dna):\n",
    "    length = len(dna)\n",
    "    a_count = dna.upper().count('A')\n",
    "    t_count = dna.upper().count('T')\n",
    "    at_content = (a_count + t_count) / length\n",
    "    return at_content > 0.65\n",
    "\n",
    "print(is_at_rich(\"ATTATCTACTA\"))\n",
    "print(is_at_rich(\"CGGCAGCGCT\"))"
   ]
  },
  {
   "cell_type": "markdown",
   "metadata": {},
   "source": [
    "## Exercise 1"
   ]
  },
  {
   "cell_type": "code",
   "execution_count": 31,
   "metadata": {},
   "outputs": [
    {
     "name": "stdout",
     "output_type": "stream",
     "text": [
      "kdy647\n",
      "jdg766\n",
      "kdy533\n"
     ]
    }
   ],
   "source": [
    "# Part 1\n",
    "file = open(\"data.csv\")\n",
    "for line in file:\n",
    "    columns = line.rstrip(\"\\n\").split(\",\")\n",
    "    species = columns[0]\n",
    "    sequences = columns[1]\n",
    "    name = columns[2]\n",
    "    expression = columns[3]\n",
    "    if species == \"Drosophila melanogaster\" or species == \"Drosophila simulans\":\n",
    "        print(name)"
   ]
  },
  {
   "cell_type": "code",
   "execution_count": 34,
   "metadata": {},
   "outputs": [
    {
     "name": "stdout",
     "output_type": "stream",
     "text": [
      "kdy647\n",
      "teg436\n"
     ]
    }
   ],
   "source": [
    "# Part 2\n",
    "file = open(\"data.csv\")\n",
    "for line in file:\n",
    "    columns = line.rstrip(\"\\n\").split(\",\")\n",
    "    species = columns[0]\n",
    "    sequence = columns[1]\n",
    "    name = columns[2]\n",
    "    expression = columns[3]\n",
    "    length = len(sequence)\n",
    "    if length > 90 and length < 110:\n",
    "        print(name)"
   ]
  },
  {
   "cell_type": "code",
   "execution_count": 37,
   "metadata": {},
   "outputs": [
    {
     "name": "stdout",
     "output_type": "stream",
     "text": [
      "kdy647\n",
      "kdy533\n",
      "hdu045\n",
      "teg436\n"
     ]
    }
   ],
   "source": [
    "# Part 3\n",
    "file = open(\"data.csv\")\n",
    "for line in file:\n",
    "    columns = line.rstrip(\"\\n\").split(\",\")\n",
    "    species = columns[0]\n",
    "    sequence = columns[1]\n",
    "    name = columns[2]\n",
    "    expression = columns[3]\n",
    "    length = len(sequence)\n",
    "    a_content = (sequence.upper().count('A'))/length\n",
    "    if a_content < 0.5 and int(expression) > 200:\n",
    "        print(name)"
   ]
  },
  {
   "cell_type": "code",
   "execution_count": 44,
   "metadata": {},
   "outputs": [
    {
     "name": "stdout",
     "output_type": "stream",
     "text": [
      "kdy533\n",
      "hdt739\n",
      "hdu045\n"
     ]
    }
   ],
   "source": [
    "# Part 4\n",
    "file = open(\"data.csv\")\n",
    "for line in file:\n",
    "    columns = line.rstrip(\"\\n\").split(\",\")\n",
    "    species = columns[0]\n",
    "    sequence = columns[1]\n",
    "    name = columns[2]\n",
    "    expression = columns[3]\n",
    "    if (name.startswith('k') or name.startswith('h')) and not species == \"Drosophila melanogaster\":\n",
    "        print(name)"
   ]
  },
  {
   "cell_type": "code",
   "execution_count": 47,
   "metadata": {},
   "outputs": [
    {
     "name": "stdout",
     "output_type": "stream",
     "text": [
      "kdy647 has high AT content\n",
      "jdg766 has medium AT content\n",
      "kdy533 has medium AT content\n",
      "hdt739 has low AT content\n",
      "hdu045 has medium AT content\n",
      "teg436 has medium AT content\n"
     ]
    }
   ],
   "source": [
    "# Part 5\n",
    "file = open(\"data.csv\")\n",
    "for line in file:\n",
    "    columns = line.rstrip(\"\\n\").split(\",\")\n",
    "    species = columns[0]\n",
    "    sequence = columns[1]\n",
    "    name = columns[2]\n",
    "    expression = columns[3]\n",
    "    length = len(sequence)\n",
    "    a_content = sequence.upper().count('A')\n",
    "    t_content = sequence.upper().count('T')\n",
    "    at_content = (a_content+t_content)/length\n",
    "    if at_content > 0.65:\n",
    "        print(name + \" has high AT content\")\n",
    "    elif at_content < 0.45:\n",
    "        print(name + \" has low AT content\")\n",
    "    else:\n",
    "        print(name + \" has medium AT content\")"
   ]
  },
  {
   "cell_type": "code",
   "execution_count": null,
   "metadata": {
    "collapsed": true
   },
   "outputs": [],
   "source": []
  }
 ],
 "metadata": {
  "kernelspec": {
   "display_name": "Python 3",
   "language": "python",
   "name": "python3"
  },
  "language_info": {
   "codemirror_mode": {
    "name": "ipython",
    "version": 3
   },
   "file_extension": ".py",
   "mimetype": "text/x-python",
   "name": "python",
   "nbconvert_exporter": "python",
   "pygments_lexer": "ipython3",
   "version": "3.6.1"
  }
 },
 "nbformat": 4,
 "nbformat_minor": 2
}
