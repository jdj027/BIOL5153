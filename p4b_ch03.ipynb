{
 "cells": [
  {
   "cell_type": "markdown",
   "metadata": {},
   "source": [
    "# P4B Chapter 3 Lessons and Exercises\n",
    "### Jake Jones"
   ]
  },
  {
   "cell_type": "code",
   "execution_count": 2,
   "metadata": {},
   "outputs": [
    {
     "name": "stdout",
     "output_type": "stream",
     "text": [
      "ACGGTTAGGCTTTCGGAAACCTGGTAAATCGGAGG\n",
      "\n",
      "\n",
      "\n"
     ]
    }
   ],
   "source": [
    "# Using the open command\n",
    "my_file = open(\"dna.txt\")\n",
    "\n",
    "file_contents = my_file.read()\n",
    "print(file_contents)"
   ]
  },
  {
   "cell_type": "code",
   "execution_count": 5,
   "metadata": {},
   "outputs": [
    {
     "name": "stdout",
     "output_type": "stream",
     "text": [
      "ACGGTTAGGCTTTCGGAAACCTGGTAAATCGGAGG\n",
      "\n",
      "\n",
      "\n"
     ]
    }
   ],
   "source": [
    "# Files, contents, and file names\n",
    "my_file_name = \"dna.txt\"  # String\n",
    "my_file = open(my_file_name) # File object\n",
    "my_file_contents = my_file.read() # Read only works on file objects, not strings\n",
    "\n",
    "print(my_file_contents)"
   ]
  },
  {
   "cell_type": "code",
   "execution_count": 7,
   "metadata": {},
   "outputs": [
    {
     "name": "stdout",
     "output_type": "stream",
     "text": [
      "sequence is ACGGTTAGGCTTTCGGAAACCTGGTAAATCGGAGG and length is 35\n"
     ]
    }
   ],
   "source": [
    "# Dealing with newlines\n",
    "\n",
    "my_file = open(\"dna.txt\")\n",
    "my_file_contents = my_file.read()\n",
    "# remove the newline with rstrip\n",
    "my_dna = my_file_contents.rstrip(\"\\n\")\n",
    "dna_length = len(my_dna)\n",
    "print(\"sequence is \" + my_dna + \" and length is \" + str(dna_length))"
   ]
  },
  {
   "cell_type": "code",
   "execution_count": 8,
   "metadata": {},
   "outputs": [
    {
     "name": "stdout",
     "output_type": "stream",
     "text": [
      "sequence is ACGGTTAGGCTTTCGGAAACCTGGTAAATCGGAGG and length is 35\n"
     ]
    }
   ],
   "source": [
    "# Condense from before\n",
    "my_file = open(\"dna.txt\")\n",
    "my_dna = my_file.read().rstrip(\"\\n\") # Make into one line of code\n",
    "dna_length = len(my_dna)\n",
    "\n",
    "print(\"sequence is \" + my_dna + \" and length is \" + str(dna_length))"
   ]
  },
  {
   "cell_type": "code",
   "execution_count": 13,
   "metadata": {},
   "outputs": [],
   "source": [
    "# Writing text to a file\n",
    "my_file = open(\"out.txt\", \"w\") # Open a new file called out.txt\n",
    "my_file.write(\"Writing to a file\")\n",
    "\n",
    "# Closing files\n",
    "## Note: closing is a method whereas open is a function\n",
    "## Use after files are opened and loaded\n",
    "my_file.close()"
   ]
  },
  {
   "cell_type": "code",
   "execution_count": null,
   "metadata": {
    "collapsed": true
   },
   "outputs": [],
   "source": [
    "# Paths and Folders\n",
    "# Linux/Ubuntu\n",
    "my_file = open(\"/home/martin/myfolder/myfile.txt\")\n",
    "# Windows\n",
    "my_file = open(r\"c:\\windows\\Desktop\\myfolder\\myfile.txt\")"
   ]
  },
  {
   "cell_type": "markdown",
   "metadata": {},
   "source": [
    "## Exercise 1"
   ]
  },
  {
   "cell_type": "code",
   "execution_count": 15,
   "metadata": {},
   "outputs": [],
   "source": [
    "# Splitting Genomic DNA\n",
    "# we don't have this file, so I am just going to copy the info from\n",
    "# the previous problem set. My guess is this was practice to load a\n",
    "# file, but nbd. \n",
    "\n",
    "my_dna = \"ATCGATCGATCGATCGACTGACTAGTCATAGCTATGCATGTAGCTACTCGATCGATCGATCGATCGATCGATCGATCGATCGATCATGCTATCATCGATCGATATCGATGCATCGACTACTAT\"\n",
    "exon1 = my_dna[0:62]\n",
    "intrn = my_dna[62:90]\n",
    "exon2 = my_dna[90:10000]\n",
    "\n",
    "# Open and write coding bits\n",
    "cod_dna = open(\"coding_dna.txt\",\"w\")\n",
    "cod_dna.write(exon1 + exon2)\n",
    "cod_dna.close()\n",
    "\n",
    "# Open and write noncoding bits\n",
    "noncod_dna = open(\"noncoding_dna.txt\",\"w\")\n",
    "noncod_dna.write(intrn)\n",
    "noncod_dna.close()"
   ]
  },
  {
   "cell_type": "markdown",
   "metadata": {},
   "source": [
    "## Exercise 2"
   ]
  },
  {
   "cell_type": "code",
   "execution_count": 17,
   "metadata": {
    "collapsed": true
   },
   "outputs": [],
   "source": [
    "# Writing .FASTA files\n",
    "header1 = \"ABC123\"\n",
    "seq1 = \"ATCGTACGATCGATCGATCGCTAGACGTATCG\"\n",
    "\n",
    "header2 = \"DEF456\"\n",
    "seq2 = \"actgatcgacgatcgatcgatcacgact\"\n",
    "\n",
    "header3 = \"HIJ789\"\n",
    "seq3 = \"ACTGAC-ACTGT--ACTGTA----CATGTG\"\n",
    "\n",
    "fastafile = open(\"sequences.fasta\",\"w\")\n",
    "fastafile.write('>' + header1 + '\\n' + seq1.upper().replace('-','') + '\\n')\n",
    "fastafile.write('>' + header2 + '\\n' + seq2.upper().replace('-','') + '\\n')\n",
    "fastafile.write('>' + header3 + '\\n' + seq3.upper().replace('-','') + '\\n')\n",
    "fastafile.close()"
   ]
  },
  {
   "cell_type": "markdown",
   "metadata": {},
   "source": [
    "## Exercise 3"
   ]
  },
  {
   "cell_type": "code",
   "execution_count": 18,
   "metadata": {
    "collapsed": true
   },
   "outputs": [],
   "source": [
    "# A lot of fasta files\n",
    "header1 = \"ABC123\"\n",
    "seq1 = \"ATCGTACGATCGATCGATCGCTAGACGTATCG\"\n",
    "output1 = open(header1 + \".fasta\", \"w\")\n",
    "output1.write('>' + header1 + '\\n' + seq1.upper().replace('-','') + '\\n')\n",
    "output1.close()\n",
    "\n",
    "header2 = \"DEF456\"\n",
    "seq2 = \"actgatcgacgatcgatcgatcacgact\"\n",
    "output2 = open(header2 + \".fasta\",\"w\")\n",
    "output2.write('>' + header2 + '\\n' + seq2.upper().replace('-','') + '\\n')\n",
    "output2.close()\n",
    "\n",
    "header3 = \"HIJ789\"\n",
    "seq3 = \"ACTGAC-ACTGT--ACTGTA----CATGTG\"\n",
    "output3 = open(header3 + \".fasta\",\"w\")\n",
    "output3.write('>' + header3 + '\\n' + seq3.upper().replace('-','') + '\\n')\n",
    "output3.close()"
   ]
  },
  {
   "cell_type": "markdown",
   "metadata": {},
   "source": [
    "## END"
   ]
  },
  {
   "cell_type": "code",
   "execution_count": null,
   "metadata": {
    "collapsed": true
   },
   "outputs": [],
   "source": []
  }
 ],
 "metadata": {
  "kernelspec": {
   "display_name": "Python 3",
   "language": "python",
   "name": "python3"
  },
  "language_info": {
   "codemirror_mode": {
    "name": "ipython",
    "version": 3
   },
   "file_extension": ".py",
   "mimetype": "text/x-python",
   "name": "python",
   "nbconvert_exporter": "python",
   "pygments_lexer": "ipython3",
   "version": "3.6.1"
  }
 },
 "nbformat": 4,
 "nbformat_minor": 2
}
