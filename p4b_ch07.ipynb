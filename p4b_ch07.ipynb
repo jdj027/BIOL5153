{
 "cells": [
  {
   "cell_type": "markdown",
   "metadata": {},
   "source": [
    "# P4B Chapter 7 Exercises\n",
    "## Jake Jones"
   ]
  },
  {
   "cell_type": "code",
   "execution_count": 2,
   "metadata": {},
   "outputs": [
    {
     "ename": "NameError",
     "evalue": "name 'pattern' is not defined",
     "output_type": "error",
     "traceback": [
      "\u001b[0;31m---------------------------------------------------------------------------\u001b[0m",
      "\u001b[0;31mNameError\u001b[0m                                 Traceback (most recent call last)",
      "\u001b[0;32m<ipython-input-2-890fdc369485>\u001b[0m in \u001b[0;36m<module>\u001b[0;34m()\u001b[0m\n\u001b[1;32m      4\u001b[0m \u001b[0;32mimport\u001b[0m \u001b[0mre\u001b[0m\u001b[0;34m\u001b[0m\u001b[0m\n\u001b[1;32m      5\u001b[0m \u001b[0;34m\u001b[0m\u001b[0m\n\u001b[0;32m----> 6\u001b[0;31m \u001b[0mre\u001b[0m\u001b[0;34m.\u001b[0m\u001b[0msearch\u001b[0m\u001b[0;34m(\u001b[0m\u001b[0mpattern\u001b[0m\u001b[0;34m,\u001b[0m \u001b[0mstring\u001b[0m\u001b[0;34m)\u001b[0m\u001b[0;34m\u001b[0m\u001b[0m\n\u001b[0m",
      "\u001b[0;31mNameError\u001b[0m: name 'pattern' is not defined"
     ]
    }
   ],
   "source": [
    "# Regular Expressions\n",
    "\n",
    "# Load module in python (needed to use certain functions that are unique to modules)\n",
    "import re\n",
    "\n",
    "re.search(pattern, string)"
   ]
  },
  {
   "cell_type": "code",
   "execution_count": 2,
   "metadata": {},
   "outputs": [
    {
     "name": "stdout",
     "output_type": "stream",
     "text": [
      "\\t\\n\n"
     ]
    }
   ],
   "source": [
    "# Raw strings (using the letter r to signify special characters)\n",
    "\n",
    "print(r\"\\t\\n\")\n"
   ]
  },
  {
   "cell_type": "code",
   "execution_count": 11,
   "metadata": {},
   "outputs": [
    {
     "name": "stdout",
     "output_type": "stream",
     "text": [
      "restriction site found\n"
     ]
    }
   ],
   "source": [
    "# Searching for patterns w/n a string\n",
    "dna = \"ATCGCGAATTCAC\"\n",
    "if re.search(r'GAATTC',dna):\n",
    "    print(\"restriction site found\")\n"
   ]
  },
  {
   "cell_type": "code",
   "execution_count": 20,
   "metadata": {},
   "outputs": [
    {
     "name": "stdout",
     "output_type": "stream",
     "text": [
      "restriction site found!\n"
     ]
    }
   ],
   "source": [
    "# alternation\n",
    "dna = \"ATCGCGAATTCAC\"\n",
    "if re.search(r\"AATTC\", dna) or re.search(r\"GGTCC\", dna):\n",
    "    print(\"restriction site found!\")"
   ]
  },
  {
   "cell_type": "code",
   "execution_count": 24,
   "metadata": {},
   "outputs": [
    {
     "name": "stdout",
     "output_type": "stream",
     "text": [
      "restriction site found!\n"
     ]
    }
   ],
   "source": [
    "# same code but easier to read/write\n",
    "dna = \"ATCGCGAATTCAC\"    \n",
    "if re.search(r\"AA(A|T)TC\", dna):\n",
    "    print(\"restriction site found!\")"
   ]
  },
  {
   "cell_type": "code",
   "execution_count": 28,
   "metadata": {},
   "outputs": [
    {
     "name": "stdout",
     "output_type": "stream",
     "text": [
      "restriction site found!\n",
      "restriction site found!\n"
     ]
    }
   ],
   "source": [
    "# Character groups \n",
    "dna = \"GCGGCATCGCGAATTCAC\"\n",
    "if re.search(r\"GC(A|T|G|C)GC\", dna):\n",
    "    print(\"restriction site found!\")\n",
    "    \n",
    "dna = \"GCAGCATCGCGAATTCAC\"\n",
    "if re.search(r\"GC[ATGC]GC\", dna):\n",
    "    print(\"restriction site found!\")"
   ]
  },
  {
   "cell_type": "code",
   "execution_count": 30,
   "metadata": {},
   "outputs": [
    {
     "name": "stdout",
     "output_type": "stream",
     "text": [
      "GACGTAC\n"
     ]
    }
   ],
   "source": [
    "# Extracting matching strings\n",
    "dna = \"ATGACGTACGTACGACTG\"\n",
    "# store the match object in the variable m\n",
    "m = re.search(r\"GA[ATGC]{3}AC\", dna) # The {3} indicate that there will be 3 of the previous character in a row (this time it was a wild card)\n",
    "print(m.group())"
   ]
  },
  {
   "cell_type": "code",
   "execution_count": 32,
   "metadata": {},
   "outputs": [
    {
     "name": "stdout",
     "output_type": "stream",
     "text": [
      "entire match: GACGTACGTAC\n",
      "first wildcard segment: CGT\n",
      "second wildcard segment: GT\n"
     ]
    }
   ],
   "source": [
    "# Using parentheses to \"capture\" parts of matching strings\n",
    "\n",
    "dna = \"ATGACGTACGTACGACTG\"\n",
    "# store the match object in the variable m\n",
    "m = re.search(r\"GA([ATGC]{3})AC([ATGC]{2})AC\", dna)\n",
    "print(\"entire match: \" + m.group())\n",
    "print(\"first wildcard segment: \" + m.group(1))\n",
    "print(\"second wildcard segment: \" + m.group(2))"
   ]
  },
  {
   "cell_type": "code",
   "execution_count": 34,
   "metadata": {},
   "outputs": [
    {
     "name": "stdout",
     "output_type": "stream",
     "text": [
      "start of match: 2\n",
      "end of match: 13\n",
      "group one start: 4\n",
      "group one end: 7\n",
      "group two start: 9\n",
      "group two end: 11\n"
     ]
    }
   ],
   "source": [
    "# Getting postions/coordinates of matching strings\n",
    "dna = \"ATGACGTACGTACGACTG\"\n",
    "m = re.search(r\"GA([ATGC]{3})AC([ATGC]{2})AC\", dna)\n",
    "print(\"start of match: \" + str(m.start())) # m.start()\n",
    "print(\"end of match: \" + str(m.end())) # m.end()\n",
    "\n",
    "# Where do the segments start and end\n",
    "print(\"group one start: \" + str(m.start(1)))\n",
    "print(\"group one end: \" + str(m.end(1)))\n",
    "print(\"group two start: \" + str(m.start(2)))\n",
    "print(\"group two end: \" + str(m.end(2)))"
   ]
  },
  {
   "cell_type": "code",
   "execution_count": 35,
   "metadata": {},
   "outputs": [
    {
     "name": "stdout",
     "output_type": "stream",
     "text": [
      "['ACT', 'GCAT', 'GCTACGT', 'ACGAT', 'CGA', 'TCG']\n"
     ]
    }
   ],
   "source": [
    "# Splitting strings up using regular expressions\n",
    "dna = \"ACTNGCATRGCTACGTYACGATSCGAWTCG\"\n",
    "# Here we are splitting the dna whenever we see a base that isn't A, T, G, or C\n",
    "runs = re.split(r\"[^ATGC]\", dna)\n",
    "print(runs)\n"
   ]
  },
  {
   "cell_type": "code",
   "execution_count": 3,
   "metadata": {},
   "outputs": [
    {
     "name": "stdout",
     "output_type": "stream",
     "text": [
      "['ATTATAT', 'AAATTATA']\n"
     ]
    }
   ],
   "source": [
    "# Finding multiple matches in a string\n",
    "dna = \"ACTGCATTATATCGTACGAAATTATACGCGCG\"\n",
    "runs = re.findall(r\"[AT]{4,100}\", dna)\n",
    "print(runs)\n"
   ]
  },
  {
   "cell_type": "code",
   "execution_count": 4,
   "metadata": {},
   "outputs": [
    {
     "name": "stdout",
     "output_type": "stream",
     "text": [
      "AT rich region from 5 to 12\n",
      "AT rich region from 18 to 26\n"
     ]
    }
   ],
   "source": [
    "# To get positions and other data, use re.finditer (a loop is usually necessary too)\n",
    "dna = \"ACTGCATTATATCGTACGAAATTATACGCGCG\"\n",
    "runs = re.finditer(r\"[AT]{3,100}\", dna)\n",
    "for match in runs:\n",
    "    run_start = match.start()\n",
    "    run_end = match.end()\n",
    "    print(\"AT rich region from \" + str(run_start) + \" to \" + str(run_end))"
   ]
  },
  {
   "cell_type": "markdown",
   "metadata": {},
   "source": [
    "## Exercise 1"
   ]
  },
  {
   "cell_type": "code",
   "execution_count": 13,
   "metadata": {},
   "outputs": [
    {
     "name": "stdout",
     "output_type": "stream",
     "text": [
      "\txkn59438\n",
      "\thedle3455\n",
      "\txjhd53e\n",
      "\t45da\n"
     ]
    }
   ],
   "source": [
    "import re\n",
    "\n",
    "gene_names = ['xkn59438', 'yhdck2', 'eihd39d9', 'chdsye847', 'hedle3455', 'xjhd53e', '45da', 'de37dp']\n",
    "\n",
    "for acc in gene_names:\n",
    "    if re.search(r\"5\", acc):\n",
    "        print(\"\\t\" + acc)"
   ]
  },
  {
   "cell_type": "code",
   "execution_count": 14,
   "metadata": {},
   "outputs": [
    {
     "name": "stdout",
     "output_type": "stream",
     "text": [
      "\tyhdck2\n",
      "\teihd39d9\n",
      "\tchdsye847\n",
      "\thedle3455\n",
      "\txjhd53e\n",
      "\t45da\n",
      "\tde37dp\n"
     ]
    }
   ],
   "source": [
    "for acc in gene_names:\n",
    "    if re.search(r\"(d|e)\", acc):\n",
    "        print(\"\\t\" + acc)"
   ]
  },
  {
   "cell_type": "code",
   "execution_count": 18,
   "metadata": {},
   "outputs": [
    {
     "name": "stdout",
     "output_type": "stream",
     "text": [
      "\tchdsye847\n",
      "\thedle3455\n",
      "\txjhd53e\n",
      "\tde37dp\n"
     ]
    }
   ],
   "source": [
    "for acc in gene_names:\n",
    "    if re.search(r\"d.*e\", acc): # use astrick to specify any amount of space between\n",
    "        print(\"\\t\" + acc)"
   ]
  },
  {
   "cell_type": "code",
   "execution_count": 19,
   "metadata": {},
   "outputs": [
    {
     "name": "stdout",
     "output_type": "stream",
     "text": [
      "\thedle3455\n"
     ]
    }
   ],
   "source": [
    "for acc in gene_names:\n",
    "    if re.search(r\"d.e\", acc): # use period for just a single space\n",
    "        print(\"\\t\" + acc)"
   ]
  },
  {
   "cell_type": "code",
   "execution_count": 20,
   "metadata": {},
   "outputs": [
    {
     "name": "stdout",
     "output_type": "stream",
     "text": [
      "\teihd39d9\n",
      "\tchdsye847\n",
      "\thedle3455\n",
      "\txjhd53e\n",
      "\tde37dp\n"
     ]
    }
   ],
   "source": [
    "for acc in gene_names:\n",
    "    if re.search(r\"(d|e).*(d|e)\", acc): # use period for just a single space\n",
    "        print(\"\\t\" + acc)"
   ]
  },
  {
   "cell_type": "code",
   "execution_count": 22,
   "metadata": {},
   "outputs": [
    {
     "name": "stdout",
     "output_type": "stream",
     "text": [
      "\txkn59438\n",
      "\tyhdck2\n",
      "\txjhd53e\n"
     ]
    }
   ],
   "source": [
    "for acc in gene_names:\n",
    "    if re.search(r\"^(x|y)\", acc):\n",
    "        print('\\t' + acc)"
   ]
  },
  {
   "cell_type": "code",
   "execution_count": 24,
   "metadata": {},
   "outputs": [
    {
     "name": "stdout",
     "output_type": "stream",
     "text": [
      "\txjhd53e\n"
     ]
    }
   ],
   "source": [
    "for acc in gene_names:\n",
    "    if re.search(r\"^(x|y)\", acc):\n",
    "        if re.search(r\"e$\", acc):\n",
    "            print('\\t' + acc)"
   ]
  },
  {
   "cell_type": "code",
   "execution_count": 25,
   "metadata": {},
   "outputs": [
    {
     "name": "stdout",
     "output_type": "stream",
     "text": [
      "\txjhd53e\n"
     ]
    }
   ],
   "source": [
    "for acc in gene_names:\n",
    "    if re.search(r\"^(x|y)\", acc):\n",
    "        if re.search(r\"e$\", acc):\n",
    "            print('\\t' + acc)"
   ]
  },
  {
   "cell_type": "code",
   "execution_count": 27,
   "metadata": {},
   "outputs": [
    {
     "name": "stdout",
     "output_type": "stream",
     "text": [
      "\txkn59438\n",
      "\tchdsye847\n",
      "\thedle3455\n"
     ]
    }
   ],
   "source": [
    "for acc in gene_names:\n",
    "    if re.search(r\"[0123456789]{3}\", acc):\n",
    "            print('\\t' + acc)"
   ]
  },
  {
   "cell_type": "code",
   "execution_count": 28,
   "metadata": {},
   "outputs": [
    {
     "name": "stdout",
     "output_type": "stream",
     "text": [
      "\t45da\n",
      "\tde37dp\n"
     ]
    }
   ],
   "source": [
    "for acc in gene_names:\n",
    "    if re.search(r\"d(a|r|p)$\", acc):\n",
    "            print('\\t' + acc)"
   ]
  },
  {
   "cell_type": "markdown",
   "metadata": {},
   "source": [
    "## Exercise 2"
   ]
  },
  {
   "cell_type": "code",
   "execution_count": 65,
   "metadata": {},
   "outputs": [
    {
     "name": "stdout",
     "output_type": "stream",
     "text": [
      "DNA total length is 2012 base pairs.\n",
      "AbcI cuts at:[0, 1143, 1628, 2012]\n",
      "One segment is 1143 bp\n",
      "One segment is 485 bp\n",
      "One segment is 384 bp\n"
     ]
    }
   ],
   "source": [
    "import re\n",
    "dna = open(\"dnach7.txt\").read().rstrip(\"\\n\")\n",
    "\n",
    "length = len(dna)\n",
    "print('DNA total length is ' + str(length) + ' base pairs.')\n",
    "\n",
    "cuts=[0]\n",
    "\n",
    "for match in re.finditer(r\"A[ATGC]TAAT\", dna):\n",
    "    cuts.append(match.start() + 3)\n",
    "cuts.append(len(dna))\n",
    "print(\"AbcI cuts at:\" + str(cuts))\n",
    "\n",
    "for i in range(1,len(cuts)):\n",
    "    position1 = cuts[i]\n",
    "    position2 = cuts[i-1]\n",
    "    segment_size = position1 - position2\n",
    "    print(\"One segment is \" + str(segment_size) + \" bp\")"
   ]
  },
  {
   "cell_type": "code",
   "execution_count": 71,
   "metadata": {},
   "outputs": [
    {
     "name": "stdout",
     "output_type": "stream",
     "text": [
      "DNA total length is 2012 base pairs.\n",
      "AbcI cuts at:[0, 488, 1143, 1577, 1628, 2012]\n",
      "One segment is 488 bp\n",
      "One segment is 655 bp\n",
      "One segment is 434 bp\n",
      "One segment is 51 bp\n",
      "One segment is 384 bp\n"
     ]
    }
   ],
   "source": [
    "import re\n",
    "dna = open(\"dnach7.txt\").read().rstrip(\"\\n\")\n",
    "\n",
    "length = len(dna)\n",
    "print('DNA total length is ' + str(length) + ' base pairs.')\n",
    "\n",
    "cuts=[0]\n",
    "\n",
    "# AbcI\n",
    "for match in re.finditer(r\"A[ATGC]TAAT\", dna):\n",
    "    cuts.append(match.start() + 3)\n",
    "\n",
    "# AbcII\n",
    "for match in re.finditer(r\"GC[AG][AT]TG\", dna):\n",
    "    cuts.append(match.start() + 4)     \n",
    "    \n",
    "cuts.append(len(dna))\n",
    "sortcuts = sorted(cuts) # sorted, NOT SORT\n",
    "print(\"AbcI cuts at:\" + str(sortcuts))\n",
    "\n",
    "for i in range(1,len(sortcuts)):\n",
    "    position1 = sortcuts[i]\n",
    "    position2 = sortcuts[i-1]\n",
    "    segment_size = position1 - position2\n",
    "    print(\"One segment is \" + str(segment_size) + \" bp\")"
   ]
  },
  {
   "cell_type": "code",
   "execution_count": null,
   "metadata": {
    "collapsed": true
   },
   "outputs": [],
   "source": []
  }
 ],
 "metadata": {
  "kernelspec": {
   "display_name": "Python 3",
   "language": "python",
   "name": "python3"
  },
  "language_info": {
   "codemirror_mode": {
    "name": "ipython",
    "version": 3
   },
   "file_extension": ".py",
   "mimetype": "text/x-python",
   "name": "python",
   "nbconvert_exporter": "python",
   "pygments_lexer": "ipython3",
   "version": "3.6.1"
  }
 },
 "nbformat": 4,
 "nbformat_minor": 2
}
