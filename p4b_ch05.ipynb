{
 "cells": [
  {
   "cell_type": "markdown",
   "metadata": {},
   "source": [
    "# P4B Chapter 5\n",
    "### Jake Jones"
   ]
  },
  {
   "cell_type": "code",
   "execution_count": 1,
   "metadata": {
    "collapsed": true
   },
   "outputs": [],
   "source": [
    "# Defining a function \n",
    " \n",
    "# Example of DNA code\n",
    "def get_at_contents(dna):\n",
    "    length =len(dna)\n",
    "    a_count = dna.count('A')\n",
    "    t_count = dna.count('T')\n",
    "    at_content = (a_count + t_count) / length\n",
    "    return at_content"
   ]
  },
  {
   "cell_type": "code",
   "execution_count": 2,
   "metadata": {},
   "outputs": [
    {
     "data": {
      "text/plain": [
       "0.5"
      ]
     },
     "execution_count": 2,
     "metadata": {},
     "output_type": "execute_result"
    }
   ],
   "source": [
    "# Call the function\n",
    "get_at_contents(\"ATGACTGGACCA\")"
   ]
  },
  {
   "cell_type": "code",
   "execution_count": 4,
   "metadata": {},
   "outputs": [
    {
     "name": "stdout",
     "output_type": "stream",
     "text": [
      "0.5\n",
      "AT content is 0.5\n"
     ]
    }
   ],
   "source": [
    "# You can save function as a variable\n",
    "at_content = get_at_contents(\"ATGACTGGACCA\")\n",
    "print(at_content)\n",
    "\n",
    "# Or use directly\n",
    "print('AT content is ' + str(get_at_contents(\"ATGACTGGACCA\")))"
   ]
  },
  {
   "cell_type": "code",
   "execution_count": 14,
   "metadata": {},
   "outputs": [
    {
     "name": "stdout",
     "output_type": "stream",
     "text": [
      "0.5\n",
      "0.53\n",
      "0.529\n"
     ]
    }
   ],
   "source": [
    "# Calling and Improving Functions\n",
    "def get_at_content(dna, sig_figs):\n",
    "    length = len(dna)\n",
    "    a_count = dna.upper().count('A')\n",
    "    t_count = dna.upper().count('T')\n",
    "    at_content = (a_count + t_count) / length\n",
    "    return round(at_content, sig_figs)\n",
    "\n",
    "test_dna = \"ATGCATGCAACTGTAGC\"\n",
    "print(get_at_content(test_dna, 1))\n",
    "print(get_at_content(test_dna, 2))\n",
    "print(get_at_content(test_dna, 3))"
   ]
  },
  {
   "cell_type": "code",
   "execution_count": 17,
   "metadata": {},
   "outputs": [
    {
     "data": {
      "text/plain": [
       "42"
      ]
     },
     "execution_count": 17,
     "metadata": {},
     "output_type": "execute_result"
    }
   ],
   "source": [
    "# Functions don't always have to take an argument\n",
    "def get_a_number():\n",
    "    return 42\n",
    "\n",
    "get_a_number()"
   ]
  },
  {
   "cell_type": "code",
   "execution_count": 22,
   "metadata": {},
   "outputs": [
    {
     "data": {
      "text/plain": [
       "0.45"
      ]
     },
     "execution_count": 22,
     "metadata": {},
     "output_type": "execute_result"
    }
   ],
   "source": [
    "# Functions can be called with Name Arguments\n",
    "get_at_content(\"ATCGTGATCG\", 2)\n",
    "\n",
    "get_at_content(dna=\"ATCGTGATCG\", sig_figs=2)\n",
    "\n",
    "# The following are all identical\n",
    "get_at_content(\"ATCGTGACTCG\", 2)\n",
    "get_at_content(dna=\"ATCGTGACTCG\", sig_figs=2)\n",
    "get_at_content(\"ATCGTGACTCG\", sig_figs=2)"
   ]
  },
  {
   "cell_type": "code",
   "execution_count": 25,
   "metadata": {},
   "outputs": [
    {
     "name": "stdout",
     "output_type": "stream",
     "text": [
      "0.45\n",
      "0.455\n",
      "0.4545\n"
     ]
    }
   ],
   "source": [
    "# Default arguments in functions\n",
    "def get_at_content(dna, sig_figs=2):\n",
    "    length = len(dna)\n",
    "    a_count = dna.upper().count('A')\n",
    "    t_count = dna.upper().count('T')\n",
    "    at_content = (a_count + t_count) / length\n",
    "    return round(at_content, sig_figs)\n",
    "\n",
    "print(get_at_content(\"ATCGTGACTCG\"))\n",
    "print(get_at_content(\"ATCGTGACTCG\", 3))\n",
    "print(get_at_content(\"ATCGTGACTCG\", sig_figs=4))"
   ]
  },
  {
   "cell_type": "markdown",
   "metadata": {},
   "source": [
    "## Exercise 1"
   ]
  },
  {
   "cell_type": "code",
   "execution_count": 38,
   "metadata": {},
   "outputs": [
    {
     "name": "stdout",
     "output_type": "stream",
     "text": [
      "True\n",
      "True\n",
      "True\n",
      "True\n"
     ]
    }
   ],
   "source": [
    "def percent_amino(sequence, residue):\n",
    "    sequence = sequence.upper()\n",
    "    residue = residue.upper()\n",
    "    length = len(sequence)\n",
    "    residue_count = sequence.count(residue)\n",
    "    percent_content = (residue_count / length)*100\n",
    "    return percent_content\n",
    "\n",
    "print(percent_amino(\"MSRSLLLRFLLFLLLLPPLP\", \"M\") == 5)\n",
    "print(percent_amino(\"MSRSLLLRFLLFLLLLPPLP\", \"r\") == 10)\n",
    "print(percent_amino(\"MSRSLLLRFLLFLLLLPPLP\", \"L\") == 50)\n",
    "print(percent_amino(\"MSRSLLLRFLLFLLLLPPLP\", \"Y\") == 0)"
   ]
  },
  {
   "cell_type": "code",
   "execution_count": 49,
   "metadata": {},
   "outputs": [
    {
     "name": "stdout",
     "output_type": "stream",
     "text": [
      "True\n",
      "True\n",
      "True\n",
      "True\n",
      "True\n"
     ]
    }
   ],
   "source": [
    "def percent_amino(sequence, residue_list=['A','I','L','M','F','W','Y','V']):\n",
    "    sequence = sequence.upper()\n",
    "    length = len(sequence)\n",
    "    total = 0\n",
    "    for residue in residue_list:\n",
    "        residue = residue.upper()\n",
    "        residue_count = sequence.count(residue)\n",
    "        total = total + residue_count\n",
    "    percent_content = total*100/length\n",
    "    return percent_content\n",
    "\n",
    "print(percent_amino(\"MSRSLLLRFLLFLLLLPPLP\", [\"M\"]) == 5)\n",
    "print(percent_amino(\"MSRSLLLRFLLFLLLLPPLP\", [\"L\"]) == 50)\n",
    "print(percent_amino(\"MSRSLLLRFLLFLLLLPPLP\", ['M', 'L']) == 55)\n",
    "print(percent_amino(\"MSRSLLLRFLLFLLLLPPLP\", ['F', 'S', 'L']) == 70)\n",
    "print(percent_amino(\"MSRSLLLRFLLFLLLLPPLP\") == 65)"
   ]
  },
  {
   "cell_type": "code",
   "execution_count": null,
   "metadata": {},
   "outputs": [],
   "source": []
  },
  {
   "cell_type": "code",
   "execution_count": null,
   "metadata": {
    "collapsed": true
   },
   "outputs": [],
   "source": []
  }
 ],
 "metadata": {
  "kernelspec": {
   "display_name": "Python 3",
   "language": "python",
   "name": "python3"
  },
  "language_info": {
   "codemirror_mode": {
    "name": "ipython",
    "version": 3
   },
   "file_extension": ".py",
   "mimetype": "text/x-python",
   "name": "python",
   "nbconvert_exporter": "python",
   "pygments_lexer": "ipython3",
   "version": "3.6.1"
  }
 },
 "nbformat": 4,
 "nbformat_minor": 2
}
