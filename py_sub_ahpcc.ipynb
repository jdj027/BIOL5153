{
 "cells": [
  {
   "cell_type": "code",
   "execution_count": 2,
   "metadata": {},
   "outputs": [
    {
     "name": "stdout",
     "output_type": "stream",
     "text": [
      "#PBS -N kiwi\n",
      "#PBS -q aja\n",
      "#PBS -j oe\n",
      "#PBS -o kiwi.$PBS_JOBID\n",
      "#PBS -l  nodes=1:ppn=1\n",
      "#PBS -l  walltime=1:00:00\n",
      "\n",
      "cd $PBS_O_WORKDIR\n",
      "module purge\n",
      "module load python/3.6.0-anaconda\n"
     ]
    }
   ],
   "source": [
    "#! /usr/bin/env python3\n",
    "# def py_sub_ahpcc(job_name,queue,ppn,walltime):\n",
    "# convert this to a function at some point\n",
    "\n",
    "job_name = 'kiwi' # name the job\n",
    "queue = 'aja'     # name of queue\n",
    "ppn = '1'         # number of processors\n",
    "walltime = '1'    # in hours\n",
    "\n",
    "print('#PBS -N ' +  job_name)\n",
    "print('#PBS -q ' +  queue)\n",
    "print('#PBS -j oe')\n",
    "print('#PBS -o ' +  job_name + '.$PBS_JOBID')\n",
    "print('#PBS -l ' + ' nodes=1:ppn=' + ppn)\n",
    "print('#PBS -l ' + ' walltime=' + walltime + ':00:00')\n",
    "print()\n",
    "print('cd $PBS_O_WORKDIR')\n",
    "print('module purge')\n",
    "print('module load python/3.6.0-anaconda')"
   ]
  },
  {
   "cell_type": "code",
   "execution_count": null,
   "metadata": {
    "collapsed": true
   },
   "outputs": [],
   "source": []
  }
 ],
 "metadata": {
  "kernelspec": {
   "display_name": "Python 3",
   "language": "python",
   "name": "python3"
  },
  "language_info": {
   "codemirror_mode": {
    "name": "ipython",
    "version": 3
   },
   "file_extension": ".py",
   "mimetype": "text/x-python",
   "name": "python",
   "nbconvert_exporter": "python",
   "pygments_lexer": "ipython3",
   "version": "3.6.1"
  }
 },
 "nbformat": 4,
 "nbformat_minor": 2
}
