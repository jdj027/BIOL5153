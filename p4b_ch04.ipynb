{
 "cells": [
  {
   "cell_type": "markdown",
   "metadata": {},
   "source": [
    "# P4B Ch04 Lessons and Exercises\n",
    "### Jake Jones"
   ]
  },
  {
   "cell_type": "code",
   "execution_count": 7,
   "metadata": {},
   "outputs": [
    {
     "name": "stdout",
     "output_type": "stream",
     "text": [
      "Homo sapiens\n",
      "1\n",
      "Gorilla gorilla\n"
     ]
    }
   ],
   "source": [
    "# Creating lists and retrieving elements\n",
    "apes = [\"Homo sapiens\", \"Pan troglodytes\", \"Gorilla gorilla\"]\n",
    "conserved_sites = [24, 56, 132]\n",
    "\n",
    "# Pick an element from a list\n",
    "print(apes[0])\n",
    "first_site = conserved_sites[2]\n",
    "\n",
    "# Finding an elements located in an unknown spot in a list\n",
    "chimp_index = apes.index(\"Pan troglodytes\")\n",
    "print(chimp_index)\n",
    "# chimp_index is now 1\n",
    "\n",
    "# Use a -1 to get the last element of the list\n",
    "last_ape = apes[-1]\n",
    "print(last_ape)"
   ]
  },
  {
   "cell_type": "code",
   "execution_count": 8,
   "metadata": {},
   "outputs": [
    {
     "name": "stdout",
     "output_type": "stream",
     "text": [
      "['class', 'order', 'family']\n"
     ]
    }
   ],
   "source": [
    "# Geting a group of elements from a list\n",
    "ranks = [\"kingdom\",\"phylum\", \"class\", \"order\", \"family\"]\n",
    "lower_ranks = ranks[2:5]\n",
    "print(lower_ranks)"
   ]
  },
  {
   "cell_type": "code",
   "execution_count": 9,
   "metadata": {},
   "outputs": [
    {
     "name": "stdout",
     "output_type": "stream",
     "text": [
      "There are 3 apes in the list before append\n",
      "There are 4 apes in the list after append\n"
     ]
    }
   ],
   "source": [
    "# Working with list elements\n",
    "# Adding elements to a list\n",
    "apes = [\"Homo sapiens\", \"Pan troglodytes\", \"Gorilla gorilla\"]\n",
    "print(\"There are \" + str(len(apes)) + \" apes in the list before append\")\n",
    "apes.append(\"Pan paniscus\")\n",
    "print(\"There are \" + str(len(apes)) + \" apes in the list after append\")"
   ]
  },
  {
   "cell_type": "code",
   "execution_count": 11,
   "metadata": {},
   "outputs": [
    {
     "name": "stdout",
     "output_type": "stream",
     "text": [
      "3 apes\n",
      "2 monkeys\n",
      "5 primates\n"
     ]
    }
   ],
   "source": [
    "# Concatenate two stringy wingys\n",
    "apes = [\"Homo sapiens\", \"Pan troglodytes\", \"Gorilla gorilla\"]\n",
    "monkeys = [\"Papio ursinus\", \"Macaca mulatta\"]\n",
    "primates = apes + monkeys\n",
    "\n",
    "print(str(len(apes)) + \" apes\")\n",
    "print(str(len(monkeys)) + \" monkeys\")\n",
    "print(str(len(primates)) + \" primates\")"
   ]
  },
  {
   "cell_type": "code",
   "execution_count": 15,
   "metadata": {},
   "outputs": [
    {
     "name": "stdout",
     "output_type": "stream",
     "text": [
      "at the start : ['kingdom', 'phylum', 'class', 'order', 'family']\n",
      "after reversing : ['family', 'order', 'class', 'phylum', 'kingdom']\n",
      "after sorting : ['class', 'family', 'kingdom', 'order', 'phylum']\n",
      "['aa', 'af', 'ao', 'ar', 'aw', 'az']\n"
     ]
    }
   ],
   "source": [
    "# Using reverse and sort\n",
    "ranks = [\"kingdom\",\"phylum\", \"class\", \"order\", \"family\"]\n",
    "print(\"at the start : \" + str(ranks))\n",
    "ranks.reverse()\n",
    "print(\"after reversing : \" + str(ranks))\n",
    "ranks.sort() # Alphabetical sort\n",
    "print(\"after sorting : \" + str(ranks))\n",
    "\n",
    "test_list = [\"aa\", \"af\" , \"az\" , \"ao\" , \"ar\" , \"aw\"]\n",
    "test_list.sort() # Works inward when first letter is the same\n",
    "print(test_list)"
   ]
  },
  {
   "cell_type": "code",
   "execution_count": 23,
   "metadata": {},
   "outputs": [
    {
     "name": "stdout",
     "output_type": "stream",
     "text": [
      "Homo sapiens is an ape\n",
      "Pan troglodytes is an ape\n",
      "Gorilla gorilla is an ape\n"
     ]
    }
   ],
   "source": [
    "# Make a loop-dy loop and pull\n",
    "apes = [\"Homo sapiens\", \"Pan troglodytes\", \"Gorilla gorilla\"]\n",
    "print(apes[0] + \" is an ape\")\n",
    "print(apes[1] + \" is an ape\")\n",
    "print(apes[2] + \" is an ape\")"
   ]
  },
  {
   "cell_type": "code",
   "execution_count": 24,
   "metadata": {},
   "outputs": [
    {
     "name": "stdout",
     "output_type": "stream",
     "text": [
      "Homo sapiens is an ape. Its name starts with H\n",
      "Its name has 12 letters\n",
      "Pan troglodytes is an ape. Its name starts with P\n",
      "Its name has 15 letters\n",
      "Gorilla gorilla is an ape. Its name starts with G\n",
      "Its name has 15 letters\n"
     ]
    }
   ],
   "source": [
    "# If you have a long list though, you don't want to manually type all that out\n",
    "# USE A LOOP\n",
    "\n",
    "apes = [\"Homo sapiens\", \"Pan troglodytes\", \"Gorilla gorilla\"]\n",
    "for ape in apes:\n",
    "    name_length = len(ape)\n",
    "    first_letter = ape[0]\n",
    "    print(ape + \" is an ape. Its name starts with \" + first_letter)\n",
    "    print(\"Its name has \" + str(name_length) + \" letters\")"
   ]
  },
  {
   "cell_type": "code",
   "execution_count": 25,
   "metadata": {},
   "outputs": [
    {
     "name": "stdout",
     "output_type": "stream",
     "text": [
      "One character is w\n",
      "One character is a\n",
      "One character is l\n",
      "One character is l\n",
      "One character is a\n",
      "One character is b\n",
      "One character is y\n"
     ]
    }
   ],
   "source": [
    "# Using a string as a list\n",
    "name = \"wallaby\"\n",
    "for character in name:\n",
    "        print(\"One character is \" + str(character))"
   ]
  },
  {
   "cell_type": "code",
   "execution_count": 26,
   "metadata": {},
   "outputs": [
    {
     "name": "stdout",
     "output_type": "stream",
     "text": [
      "['melanogaster', 'simulans', 'yakuba', 'ananassae']\n"
     ]
    }
   ],
   "source": [
    "# Chopping strings to make lists (using split command)\n",
    "names = \"melanogaster,simulans,yakuba,ananassae\"\n",
    "species = names.split(\",\")\n",
    "print(str(species))"
   ]
  },
  {
   "cell_type": "code",
   "execution_count": 27,
   "metadata": {},
   "outputs": [
    {
     "ename": "SyntaxError",
     "evalue": "unexpected EOF while parsing (<ipython-input-27-d5abf8bc47d6>, line 4)",
     "output_type": "error",
     "traceback": [
      "\u001b[0;36m  File \u001b[0;32m\"<ipython-input-27-d5abf8bc47d6>\"\u001b[0;36m, line \u001b[0;32m4\u001b[0m\n\u001b[0;31m    # do some command with the lines\u001b[0m\n\u001b[0m                                    ^\u001b[0m\n\u001b[0;31mSyntaxError\u001b[0m\u001b[0;31m:\u001b[0m unexpected EOF while parsing\n"
     ]
    }
   ],
   "source": [
    "# Working with lines over files\n",
    "file = open(\"some_text.txt\")\n",
    "for line in file:\n",
    "        # do some command with the lines"
   ]
  },
  {
   "cell_type": "code",
   "execution_count": 28,
   "metadata": {},
   "outputs": [
    {
     "name": "stdout",
     "output_type": "stream",
     "text": [
      "vls\n",
      "vlsp\n",
      "vlspa\n",
      "vlspad\n",
      "vlspadk\n",
      "vlspadkt\n",
      "vlspadktn\n",
      "vlspadktnv\n"
     ]
    }
   ],
   "source": [
    "# Looping over lists of numbers\n",
    "protein = \"vlspadktnv\"\n",
    "stop_positions = [3,4,5,6,7,8,9,10]\n",
    "for stop in stop_positions:\n",
    "    substring = protein[0:stop]\n",
    "    print(substring)"
   ]
  },
  {
   "cell_type": "code",
   "execution_count": 30,
   "metadata": {},
   "outputs": [
    {
     "name": "stdout",
     "output_type": "stream",
     "text": [
      "0\n",
      "1\n",
      "2\n",
      "3\n",
      "4\n",
      "5\n",
      "6\n",
      "7\n",
      "8\n",
      "9\n"
     ]
    }
   ],
   "source": [
    "# The range function\n",
    "for num in range(10):\n",
    "    print(num)"
   ]
  },
  {
   "cell_type": "code",
   "execution_count": 32,
   "metadata": {},
   "outputs": [
    {
     "name": "stdout",
     "output_type": "stream",
     "text": [
      "3\n",
      "4\n",
      "5\n",
      "6\n",
      "7\n"
     ]
    }
   ],
   "source": [
    "# Changing the range\n",
    "for numb in range(3,8):\n",
    "    print(numb)"
   ]
  },
  {
   "cell_type": "code",
   "execution_count": 33,
   "metadata": {},
   "outputs": [
    {
     "name": "stdout",
     "output_type": "stream",
     "text": [
      "2\n",
      "6\n",
      "10\n"
     ]
    }
   ],
   "source": [
    "# Giving specific values\n",
    "for num in range(2,14,4): # (a,b,c) will count from a to b in step size c\n",
    "    print(num)"
   ]
  },
  {
   "cell_type": "markdown",
   "metadata": {},
   "source": [
    "## In Class Exercise"
   ]
  },
  {
   "cell_type": "code",
   "execution_count": 8,
   "metadata": {},
   "outputs": [
    {
     "name": "stdout",
     "output_type": "stream",
     "text": [
      "Tangled Up in Blue\n",
      "Simple Twist of Fate\n",
      "You're a Big Girl Now\n",
      "Idiot Wind\n",
      "You're Gonna Make Me Lonesome When You Go\n",
      "Meet Me in the Morning\n",
      "Lily, Rosemary and the Jack of Hearts\n",
      "If You See Her, Say Hello\n",
      "Shelter from the Storm\n",
      "Buckets of Rain\n"
     ]
    }
   ],
   "source": [
    "file = open(\"blood_on_the_tracks.txt\")\n",
    "\n",
    "songs = [] # declare a list\n",
    "\n",
    "for i in file:\n",
    "    i = i.rstrip('\\n')\n",
    "    songs.append(i)\n",
    "    print(i)\n",
    "    \n",
    "file.close()"
   ]
  },
  {
   "cell_type": "markdown",
   "metadata": {},
   "source": [
    "## Exercise 1"
   ]
  },
  {
   "cell_type": "code",
   "execution_count": 45,
   "metadata": {},
   "outputs": [
    {
     "name": "stdout",
     "output_type": "stream",
     "text": [
      "42\n",
      "37\n",
      "48\n",
      "33\n",
      "47\n"
     ]
    }
   ],
   "source": [
    "# Load input\n",
    "inpt = open(\"input.txt\",'r')\n",
    "\n",
    "# Initialize output\n",
    "out = open('trimmed_dna.txt','w')\n",
    "\n",
    "# Make a loopy\n",
    "for dna in inpt:\n",
    "    dna = dna.rstrip('\\n') # Get rid of newlines\n",
    "    trim = dna[14:10000] # trim sequence\n",
    "    long = len(trim) # find new length\n",
    "    out.write(trim + '\\n') # write output\n",
    "    print(long)\n",
    "\n",
    "# Housekeeping\n",
    "inpt.close()\n",
    "out.close()"
   ]
  },
  {
   "cell_type": "markdown",
   "metadata": {},
   "source": [
    "## Exercise 2"
   ]
  },
  {
   "cell_type": "code",
   "execution_count": 63,
   "metadata": {
    "collapsed": true
   },
   "outputs": [],
   "source": [
    "# Load and initialize\n",
    "genome = open(\"genomic_dna.txt\").read()\n",
    "exons = open(\"exons.txt\",'r')\n",
    "final = \"\"\n",
    "  \n",
    "for i in exons:\n",
    "    pos = i.split(',') # Get coords\n",
    "    x = int(pos[0]) # Get first coord\n",
    "    y = int(pos[1]) # Second coord\n",
    "    exo = genome[x:y] # Find the string\n",
    "    final = final + exo # Glue them together\n",
    "\n",
    "# print and save\n",
    "fn = open(\"concat_exons.txt\",'w')\n",
    "fn.write(final)\n",
    "\n",
    "# housekeeping\n",
    "fn.close()\n",
    "exons.close()"
   ]
  },
  {
   "cell_type": "markdown",
   "metadata": {},
   "source": [
    "## END"
   ]
  },
  {
   "cell_type": "code",
   "execution_count": null,
   "metadata": {
    "collapsed": true
   },
   "outputs": [],
   "source": []
  }
 ],
 "metadata": {
  "kernelspec": {
   "display_name": "Python 3",
   "language": "python",
   "name": "python3"
  },
  "language_info": {
   "codemirror_mode": {
    "name": "ipython",
    "version": 3
   },
   "file_extension": ".py",
   "mimetype": "text/x-python",
   "name": "python",
   "nbconvert_exporter": "python",
   "pygments_lexer": "ipython3",
   "version": "3.6.1"
  }
 },
 "nbformat": 4,
 "nbformat_minor": 2
}
